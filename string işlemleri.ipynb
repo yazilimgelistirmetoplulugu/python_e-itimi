{
 "cells": [
  {
   "cell_type": "markdown",
   "id": "2892f295",
   "metadata": {},
   "source": [
    "<h1>KARAKTER DİZİLERİ (STRİNG)</h1>\n",
    " <P>Pythonda bir veri veeri tipi olan stringler veya türkçe ismiyle karakter dizileri gerçek hayatta kullandığımız <strong>yazıların</strong> aynısıdır.\n",
    "Bu veri tipi aslında her biri karakter olan bir dizidir . örneğin \"cihat\" stringi c,i,h,a,t harflerinden veya karakterlerinden oluşmaktadır. Bu konuda stringler ve stringlerin özeliklerini görmeye çalışacağız.</P>\n",
    "\n",
    "<h2>STRİNG OLUŞTURMA</h2>\n",
    "   <p>python'da string oluşturmanın bir çok yolu bulunmaktadır. Bunların hangisini kullanacağınız tamamiyle size bağlıdır. HAYDİ ŞİMDİ STRİNG YAPMAYA BAŞLAYALIM:)</p>"
   ]
  },
  {
   "cell_type": "code",
   "execution_count": 1,
   "id": "43c3fa34",
   "metadata": {},
   "outputs": [
    {
     "data": {
      "text/plain": [
       "'cihat çoban'"
      ]
     },
     "execution_count": 1,
     "metadata": {},
     "output_type": "execute_result"
    }
   ],
   "source": [
    "# Tek tırnak ('') ile\n",
    "'cihat çoban'"
   ]
  },
  {
   "cell_type": "code",
   "execution_count": 2,
   "id": "940f7592",
   "metadata": {},
   "outputs": [
    {
     "data": {
      "text/plain": [
       "'cihat çoban'"
      ]
     },
     "execution_count": 2,
     "metadata": {},
     "output_type": "execute_result"
    }
   ],
   "source": [
    "# Çift tırnak (\"\") ile\n",
    "\"cihat çoban\""
   ]
  },
  {
   "cell_type": "code",
   "execution_count": 3,
   "id": "2bcdb62a",
   "metadata": {},
   "outputs": [
    {
     "data": {
      "text/plain": [
       "\"'cihat çoban'\""
      ]
     },
     "execution_count": 3,
     "metadata": {},
     "output_type": "execute_result"
    }
   ],
   "source": [
    "# üç tırnak (\"''\")ile\n",
    "\"'cihat çoban'\""
   ]
  },
  {
   "cell_type": "markdown",
   "id": "acf38dc8",
   "metadata": {},
   "source": [
    "<b>ÖNEMLİ!!! eğer çif tırnak ile oluşturacaksak bitirmeyi yine çift tırnakla yaparız  </b>"
   ]
  },
  {
   "cell_type": "code",
   "execution_count": 6,
   "id": "1548b1f5",
   "metadata": {},
   "outputs": [
    {
     "ename": "SyntaxError",
     "evalue": "EOL while scanning string literal (Temp/ipykernel_8588/3625233775.py, line 1)",
     "output_type": "error",
     "traceback": [
      "\u001b[1;36m  File \u001b[1;32m\"C:\\Users\\cihat\\AppData\\Local\\Temp/ipykernel_8588/3625233775.py\"\u001b[1;36m, line \u001b[1;32m1\u001b[0m\n\u001b[1;33m    \"'cihat çoban\"'\u001b[0m\n\u001b[1;37m                   ^\u001b[0m\n\u001b[1;31mSyntaxError\u001b[0m\u001b[1;31m:\u001b[0m EOL while scanning string literal\n"
     ]
    }
   ],
   "source": [
    "\"'cihat çoban\"'"
   ]
  },
  {
   "cell_type": "code",
   "execution_count": 7,
   "id": "c056bfc9",
   "metadata": {},
   "outputs": [
    {
     "ename": "SyntaxError",
     "evalue": "invalid syntax (Temp/ipykernel_8588/3472655807.py, line 1)",
     "output_type": "error",
     "traceback": [
      "\u001b[1;36m  File \u001b[1;32m\"C:\\Users\\cihat\\AppData\\Local\\Temp/ipykernel_8588/3472655807.py\"\u001b[1;36m, line \u001b[1;32m1\u001b[0m\n\u001b[1;33m    'python'da dikkat edilmesi gereken hususlar. '\u001b[0m\n\u001b[1;37m            ^\u001b[0m\n\u001b[1;31mSyntaxError\u001b[0m\u001b[1;31m:\u001b[0m invalid syntax\n"
     ]
    }
   ],
   "source": [
    "'python'da dikkat edilmesi gereken hususlar. '"
   ]
  },
  {
   "cell_type": "code",
   "execution_count": 8,
   "id": "85d7579a",
   "metadata": {},
   "outputs": [
    {
     "data": {
      "text/plain": [
       "\"pthon'da dikkat edilmesi gereken özelikler\""
      ]
     },
     "execution_count": 8,
     "metadata": {},
     "output_type": "execute_result"
    }
   ],
   "source": [
    "\"pthon'da dikkat edilmesi gereken özelikler\""
   ]
  },
  {
   "cell_type": "code",
   "execution_count": 9,
   "id": "a7b65bef",
   "metadata": {},
   "outputs": [
    {
     "data": {
      "text/plain": [
       "\"python'da dikkat edilmesi gereken hususlar. \""
      ]
     },
     "execution_count": 9,
     "metadata": {},
     "output_type": "execute_result"
    }
   ],
   "source": [
    "'python\\'da dikkat edilmesi gereken hususlar. '"
   ]
  },
  {
   "cell_type": "markdown",
   "id": "f73c5964",
   "metadata": {},
   "source": [
    "<h>STRİNG İNDEXLEME VE PARÇALAMA</h>\n",
    "<P>Stringler birer karakter dizileri oldukları için her bir karakterin aslında string içinde bir yeri vardır. örnek olarak <strong>\"cihat\"</strong> c,i,h,a,t karakterlerinin yerleri <strong>İNDEKS</strong> olarak adlandırılır . Pythonda da çoğu proglama dilinde olduğu gibi indeksleme <strong>0</strong> dan başlamaktadır .</P>\n",
    "<p> Bu işlem için <strong>[ ] köşeli parantez</strong> kullanılır.</p>"
   ]
  },
  {
   "cell_type": "code",
   "execution_count": 12,
   "id": "1d1b6ce7",
   "metadata": {},
   "outputs": [
    {
     "data": {
      "text/plain": [
       "'cihat çoban'"
      ]
     },
     "execution_count": 12,
     "metadata": {},
     "output_type": "execute_result"
    }
   ],
   "source": [
    "i='cihat çoban'\n",
    "i"
   ]
  },
  {
   "cell_type": "code",
   "execution_count": 13,
   "id": "0a785465",
   "metadata": {},
   "outputs": [
    {
     "data": {
      "text/plain": [
       "'c'"
      ]
     },
     "execution_count": 13,
     "metadata": {},
     "output_type": "execute_result"
    }
   ],
   "source": [
    "#0. elemana ulaşalım.\n",
    "i[0]"
   ]
  },
  {
   "cell_type": "code",
   "execution_count": 14,
   "id": "61034974",
   "metadata": {},
   "outputs": [
    {
     "data": {
      "text/plain": [
       "'n'"
      ]
     },
     "execution_count": 14,
     "metadata": {},
     "output_type": "execute_result"
    }
   ],
   "source": [
    "#en sondaki elemanı yazdıralaım\n",
    "i[-1]"
   ]
  },
  {
   "cell_type": "markdown",
   "id": "d90ebb39",
   "metadata": {},
   "source": [
    "<p>\n",
    "peki uzun bir string'in bellirli bir kısmını elde etmek için ne yapacağız ? Burda <strong> indeksleri : ve [ ]</strong> işaretlerini kullanacağız.\n",
    "formülümüz şu şekilde olacak </p>\n",
    "<p1>[başlama indeksi : bitiş indeksi : atlama değeri]</p1>"
   ]
  },
  {
   "cell_type": "code",
   "execution_count": 15,
   "id": "d6fce1e5",
   "metadata": {},
   "outputs": [],
   "source": [
    "x=\"yazılım geliştirme topluluğu\""
   ]
  },
  {
   "cell_type": "code",
   "execution_count": 16,
   "id": "fe3ef151",
   "metadata": {},
   "outputs": [
    {
     "data": {
      "text/plain": [
       "'zılım geli'"
      ]
     },
     "execution_count": 16,
     "metadata": {},
     "output_type": "execute_result"
    }
   ],
   "source": [
    "# 2. indexten 12. indexe kadar olan bölümü alalım.(12. index dahil edilmez)\n",
    "x[2:12]"
   ]
  },
  {
   "cell_type": "code",
   "execution_count": 17,
   "id": "ba0caa6e",
   "metadata": {},
   "outputs": [
    {
     "data": {
      "text/plain": [
       "'zlmgl'"
      ]
     },
     "execution_count": 17,
     "metadata": {},
     "output_type": "execute_result"
    }
   ],
   "source": [
    "# 2. indexten 12. indexe kadar olan bölümü iki iki atlatarak alalım.(12. index dahil edilmez)\n",
    "x[2:12:2]"
   ]
  },
  {
   "cell_type": "code",
   "execution_count": 22,
   "id": "477d2b72",
   "metadata": {},
   "outputs": [
    {
     "data": {
      "text/plain": [
       "'yzlmglşim ollğ'"
      ]
     },
     "execution_count": 22,
     "metadata": {},
     "output_type": "execute_result"
    }
   ],
   "source": [
    "x[::2]"
   ]
  },
  {
   "cell_type": "code",
   "execution_count": 23,
   "id": "75706656",
   "metadata": {},
   "outputs": [
    {
     "data": {
      "text/plain": [
       "'uğululpot emritşileg mılızay'"
      ]
     },
     "execution_count": 23,
     "metadata": {},
     "output_type": "execute_result"
    }
   ],
   "source": [
    "#tersten yazdıralım\n",
    "x[::-1]"
   ]
  },
  {
   "cell_type": "markdown",
   "id": "6a273792",
   "metadata": {},
   "source": [
    "<h>STRİNG ÖZELLİKLERİ</h>\n",
    "<ul>\n",
    "    <li>Bir string'in uzunluğunu bulmak için <strong>len( )</strong> fonksiyonu         bulunmaktadır.</li>\n",
    "    <li>Stringler değiştirilemez. Ama...</li>\n",
    "    <li>Python'da stringleri tolamak mümkündür.</li>\n",
    "</ul>    "
   ]
  },
  {
   "cell_type": "code",
   "execution_count": 24,
   "id": "088aea09",
   "metadata": {},
   "outputs": [
    {
     "data": {
      "text/plain": [
       "28"
      ]
     },
     "execution_count": 24,
     "metadata": {},
     "output_type": "execute_result"
    }
   ],
   "source": [
    "# len() fonksiyonu kullanımı\n",
    "len(x)"
   ]
  },
  {
   "cell_type": "code",
   "execution_count": 25,
   "id": "f317fbf4",
   "metadata": {},
   "outputs": [
    {
     "ename": "TypeError",
     "evalue": "'str' object does not support item assignment",
     "output_type": "error",
     "traceback": [
      "\u001b[1;31m---------------------------------------------------------------------------\u001b[0m",
      "\u001b[1;31mTypeError\u001b[0m                                 Traceback (most recent call last)",
      "\u001b[1;32m~\\AppData\\Local\\Temp/ipykernel_8588/3701426307.py\u001b[0m in \u001b[0;36m<module>\u001b[1;34m\u001b[0m\n\u001b[0;32m      1\u001b[0m \u001b[1;31m#string'i değiştirmeye çalışalım\u001b[0m\u001b[1;33m\u001b[0m\u001b[1;33m\u001b[0m\u001b[0m\n\u001b[1;32m----> 2\u001b[1;33m \u001b[0mx\u001b[0m\u001b[1;33m[\u001b[0m\u001b[1;36m0\u001b[0m\u001b[1;33m]\u001b[0m\u001b[1;33m=\u001b[0m\u001b[1;34m'p'\u001b[0m\u001b[1;33m\u001b[0m\u001b[1;33m\u001b[0m\u001b[0m\n\u001b[0m",
      "\u001b[1;31mTypeError\u001b[0m: 'str' object does not support item assignment"
     ]
    }
   ],
   "source": [
    "#string'i değiştirmeye çalışalım\n",
    "x[0]='p'"
   ]
  },
  {
   "cell_type": "code",
   "execution_count": 30,
   "id": "910fcc2c",
   "metadata": {},
   "outputs": [
    {
     "data": {
      "text/plain": [
       "'yazılım geliştirme topluluğu'"
      ]
     },
     "execution_count": 30,
     "metadata": {},
     "output_type": "execute_result"
    }
   ],
   "source": [
    "#string toplama işlemi\n",
    "a=\"yazılım \"\n",
    "b=\"geliştirme \"\n",
    "c=\"topluluğu\"\n",
    "a+b+c"
   ]
  },
  {
   "cell_type": "code",
   "execution_count": 36,
   "id": "0f9bb7da",
   "metadata": {},
   "outputs": [
    {
     "data": {
      "text/plain": [
       "'yazılım yazılım yazılım yazılım yazılım '"
      ]
     },
     "execution_count": 36,
     "metadata": {},
     "output_type": "execute_result"
    }
   ],
   "source": [
    "#stringi bir sayı ile çarpalım\n",
    "a*5\n"
   ]
  },
  {
   "cell_type": "code",
   "execution_count": 56,
   "id": "d2c88bc7",
   "metadata": {},
   "outputs": [],
   "source": [
    "#  Ama...stringi atama yolu değiştirelim\n",
    "s=\"cihat\""
   ]
  },
  {
   "cell_type": "code",
   "execution_count": 57,
   "id": "d0516dfe",
   "metadata": {},
   "outputs": [
    {
     "data": {
      "text/plain": [
       "'cihat çoban'"
      ]
     },
     "execution_count": 57,
     "metadata": {},
     "output_type": "execute_result"
    }
   ],
   "source": [
    "s=s+\" çoban\"\n",
    "s"
   ]
  },
  {
   "cell_type": "code",
   "execution_count": null,
   "id": "4b9c04e0",
   "metadata": {},
   "outputs": [],
   "source": []
  }
 ],
 "metadata": {
  "kernelspec": {
   "display_name": "Python 3 (ipykernel)",
   "language": "python",
   "name": "python3"
  },
  "language_info": {
   "codemirror_mode": {
    "name": "ipython",
    "version": 3
   },
   "file_extension": ".py",
   "mimetype": "text/x-python",
   "name": "python",
   "nbconvert_exporter": "python",
   "pygments_lexer": "ipython3",
   "version": "3.9.7"
  }
 },
 "nbformat": 4,
 "nbformat_minor": 5
}
