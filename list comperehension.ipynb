{
 "cells": [
  {
   "cell_type": "markdown",
   "id": "7b4b73c9",
   "metadata": {},
   "source": [
    "<h1>LİSTELER</h1>\n",
    "<P>Listeler yapıları gereği stringlere oldukça benzerler.Tıpkı stringler gibi indekslenirler , parçalanırlar ve üzerinde farklı işlemler yapabildiğimiz metodlar bulunur.stringler değiştirilmezken listeler değiştirilebilirdir.</P>\n",
    "<ul>\n",
    "    <li>1. liste oluşturma</li>\n",
    "    <li>2. indeksleme ve parçalama</li>\n",
    "    <li>3. temel liste metodları ve işlemleri</li>\n",
    "    <li>4. liç içe listeler</li>\n",
    "</ul>\n",
    "<h2>LİSTE OLUŞTURMA</h2>\n",
    "<b>Listeler [ ] köşeli parantez içerisine veriler veya değerler konularak yapılır.</b>"
   ]
  },
  {
   "cell_type": "code",
   "execution_count": 18,
   "id": "4ca45b55",
   "metadata": {},
   "outputs": [
    {
     "data": {
      "text/plain": [
       "[7, 6, 65, 'cihat', 6.75, 'zaza']"
      ]
     },
     "execution_count": 18,
     "metadata": {},
     "output_type": "execute_result"
    }
   ],
   "source": [
    "#listeler değişik veri tiplerini saklayabilir.\n",
    "liste=[7,6,65,\"cihat\",6.75,\"zaza\"]\n",
    "liste"
   ]
  },
  {
   "cell_type": "code",
   "execution_count": 2,
   "id": "e3fdd8f7",
   "metadata": {},
   "outputs": [
    {
     "data": {
      "text/plain": [
       "[]"
      ]
     },
     "execution_count": 2,
     "metadata": {},
     "output_type": "execute_result"
    }
   ],
   "source": [
    "#boş liste oluşturma\n",
    "a = []\n",
    "a"
   ]
  },
  {
   "cell_type": "code",
   "execution_count": null,
   "id": "d336c919",
   "metadata": {},
   "outputs": [],
   "source": [
    "#boş liste oluşturmanın başka bir yolu ise;list() fonksiyonudur."
   ]
  },
  {
   "cell_type": "code",
   "execution_count": 3,
   "id": "d9b685ca",
   "metadata": {},
   "outputs": [
    {
     "data": {
      "text/plain": [
       "[]"
      ]
     },
     "execution_count": 3,
     "metadata": {},
     "output_type": "execute_result"
    }
   ],
   "source": [
    "b=list()\n",
    "b"
   ]
  },
  {
   "cell_type": "code",
   "execution_count": 4,
   "id": "55aa9a28",
   "metadata": {},
   "outputs": [
    {
     "data": {
      "text/plain": [
       "14"
      ]
     },
     "execution_count": 4,
     "metadata": {},
     "output_type": "execute_result"
    }
   ],
   "source": [
    "#listelerde len() fonksiyonunun kullanımı.\n",
    "liste1=[5,986,96,612,12,69,4,2,8,\"z\",\"python\",\"da\",\"listeler\",6653.41]\n",
    "len(liste1)"
   ]
  },
  {
   "cell_type": "markdown",
   "id": "888b442b",
   "metadata": {},
   "source": [
    "<b>Bir string list() fonksiyonu yardımıyla listeye dönüştürülebilir.</b>"
   ]
  },
  {
   "cell_type": "code",
   "execution_count": 5,
   "id": "c9d99ea1",
   "metadata": {},
   "outputs": [
    {
     "data": {
      "text/plain": [
       "['p', 'y', 't', 'h', 'o', 'n', ' ', 'k', 'u', 'r', 's', 'u']"
      ]
     },
     "execution_count": 5,
     "metadata": {},
     "output_type": "execute_result"
    }
   ],
   "source": [
    "string = \"python kursu\"\n",
    "liste2 = list(string)\n",
    "liste2"
   ]
  },
  {
   "cell_type": "markdown",
   "id": "1b701f1e",
   "metadata": {},
   "source": [
    "<b>listelerde indexleme ve parçalama</b>"
   ]
  },
  {
   "cell_type": "code",
   "execution_count": 6,
   "id": "c1cfaa78",
   "metadata": {},
   "outputs": [
    {
     "data": {
      "text/plain": [
       "[7, 6, 65, 'cihat', 6.75, 'zaza']"
      ]
     },
     "execution_count": 6,
     "metadata": {},
     "output_type": "execute_result"
    }
   ],
   "source": [
    "liste"
   ]
  },
  {
   "cell_type": "code",
   "execution_count": 7,
   "id": "1d5f0179",
   "metadata": {},
   "outputs": [
    {
     "data": {
      "text/plain": [
       "7"
      ]
     },
     "execution_count": 7,
     "metadata": {},
     "output_type": "execute_result"
    }
   ],
   "source": [
    "# 0. index\n",
    "liste[0]"
   ]
  },
  {
   "cell_type": "code",
   "execution_count": 8,
   "id": "7976233d",
   "metadata": {},
   "outputs": [
    {
     "data": {
      "text/plain": [
       "'zaza'"
      ]
     },
     "execution_count": 8,
     "metadata": {},
     "output_type": "execute_result"
    }
   ],
   "source": [
    "# sonuncu eleman\n",
    "liste[-1]"
   ]
  },
  {
   "cell_type": "code",
   "execution_count": 9,
   "id": "27df5fe1",
   "metadata": {},
   "outputs": [
    {
     "data": {
      "text/plain": [
       "[7, 6, 65]"
      ]
     },
     "execution_count": 9,
     "metadata": {},
     "output_type": "execute_result"
    }
   ],
   "source": [
    "#baştan 3 indekse kadar\n",
    "liste[:3]"
   ]
  },
  {
   "cell_type": "code",
   "execution_count": 11,
   "id": "7e3a650d",
   "metadata": {},
   "outputs": [
    {
     "data": {
      "text/plain": [
       "[65, 6.75]"
      ]
     },
     "execution_count": 11,
     "metadata": {},
     "output_type": "execute_result"
    }
   ],
   "source": [
    "#2. indexten 5. indexse kadar 2 ,2 gitdin\n",
    "liste[2:5:2]"
   ]
  },
  {
   "cell_type": "code",
   "execution_count": 12,
   "id": "a6067035",
   "metadata": {},
   "outputs": [
    {
     "data": {
      "text/plain": [
       "[7, 8, 6, 21, '.py', 4, 6, 3, 1, 97, 'jdk', 'yazget', 8.5]"
      ]
     },
     "execution_count": 12,
     "metadata": {},
     "output_type": "execute_result"
    }
   ],
   "source": [
    "#listelerde toplama işlemi\n",
    "liste3=[7,8,6,21,\".py\"]\n",
    "liste4=[4,6,3,1,97,\"jdk\",\"yazget\",8.5]\n",
    "liste5=liste3+liste4\n",
    "liste5"
   ]
  },
  {
   "cell_type": "code",
   "execution_count": 13,
   "id": "9d82fca1",
   "metadata": {},
   "outputs": [
    {
     "data": {
      "text/plain": [
       "['random', 'bir', 'şey']"
      ]
     },
     "execution_count": 13,
     "metadata": {},
     "output_type": "execute_result"
    }
   ],
   "source": [
    "#listelerde çarpma işlemi\n",
    "liste6=[\"random\",\"bir\",\"şey\"]\n",
    "liste6"
   ]
  },
  {
   "cell_type": "code",
   "execution_count": 14,
   "id": "aa228263",
   "metadata": {},
   "outputs": [
    {
     "data": {
      "text/plain": [
       "['random', 'bir', 'şey', 'random', 'bir', 'şey', 'random', 'bir', 'şey']"
      ]
     },
     "execution_count": 14,
     "metadata": {},
     "output_type": "execute_result"
    }
   ],
   "source": [
    "liste6=liste6*3\n",
    "liste6"
   ]
  },
  {
   "cell_type": "code",
   "execution_count": 25,
   "id": "6156ff86",
   "metadata": {},
   "outputs": [
    {
     "data": {
      "text/plain": [
       "[7, 6, 65, 'cihat', 'acayip bir şey', 'zaza']"
      ]
     },
     "execution_count": 25,
     "metadata": {},
     "output_type": "execute_result"
    }
   ],
   "source": [
    "liste"
   ]
  },
  {
   "cell_type": "code",
   "execution_count": 27,
   "id": "859efe42",
   "metadata": {},
   "outputs": [
    {
     "data": {
      "text/plain": [
       "[7, 6, 'merhaba', 'cihat', 'acayip bir şey', 'zaza']"
      ]
     },
     "execution_count": 27,
     "metadata": {},
     "output_type": "execute_result"
    }
   ],
   "source": [
    "#listelerde eleman ekleme ve değiştirme\n",
    "liste[2]=\"merhaba\"\n",
    "liste"
   ]
  },
  {
   "cell_type": "code",
   "execution_count": 28,
   "id": "eab9d68f",
   "metadata": {},
   "outputs": [
    {
     "data": {
      "text/plain": [
       "['solhan', 12, 'merhaba', 'cihat', 'acayip bir şey', 'zaza']"
      ]
     },
     "execution_count": 28,
     "metadata": {},
     "output_type": "execute_result"
    }
   ],
   "source": [
    "liste[:2]=[\"solhan\",12]\n",
    "liste"
   ]
  },
  {
   "cell_type": "markdown",
   "id": "2371e737",
   "metadata": {},
   "source": [
    "<b>append metodu,verilen değeri listeye ekler</b>"
   ]
  },
  {
   "cell_type": "code",
   "execution_count": 29,
   "id": "7fbb16a7",
   "metadata": {},
   "outputs": [
    {
     "data": {
      "text/plain": [
       "['solhan', 12, 'merhaba', 'cihat', 'acayip bir şey', 'zaza', 'plaka']"
      ]
     },
     "execution_count": 29,
     "metadata": {},
     "output_type": "execute_result"
    }
   ],
   "source": [
    "liste.append(\"plaka\")\n",
    "liste"
   ]
  },
  {
   "cell_type": "markdown",
   "id": "dcbb64f6",
   "metadata": {},
   "source": [
    "<b>pop metodu</b>\n",
    "<p>bu metod içine değer verilmezse listenin sonunda bulunan indeksi,değer verilirse verilen değerdeki indekse karşılık gelen elemanı listeden çıkarır.</p>"
   ]
  },
  {
   "cell_type": "code",
   "execution_count": 30,
   "id": "208613d4",
   "metadata": {},
   "outputs": [
    {
     "data": {
      "text/plain": [
       "'plaka'"
      ]
     },
     "execution_count": 30,
     "metadata": {},
     "output_type": "execute_result"
    }
   ],
   "source": [
    "liste.pop()"
   ]
  },
  {
   "cell_type": "code",
   "execution_count": 31,
   "id": "b325901a",
   "metadata": {},
   "outputs": [
    {
     "data": {
      "text/plain": [
       "['solhan', 12, 'merhaba', 'cihat', 'acayip bir şey', 'zaza']"
      ]
     },
     "execution_count": 31,
     "metadata": {},
     "output_type": "execute_result"
    }
   ],
   "source": [
    "liste"
   ]
  },
  {
   "cell_type": "code",
   "execution_count": 32,
   "id": "0075c0e8",
   "metadata": {},
   "outputs": [
    {
     "data": {
      "text/plain": [
       "'merhaba'"
      ]
     },
     "execution_count": 32,
     "metadata": {},
     "output_type": "execute_result"
    }
   ],
   "source": [
    "liste.pop(2)"
   ]
  },
  {
   "cell_type": "code",
   "execution_count": 33,
   "id": "14bcb783",
   "metadata": {},
   "outputs": [
    {
     "data": {
      "text/plain": [
       "['solhan', 12, 'cihat', 'acayip bir şey', 'zaza']"
      ]
     },
     "execution_count": 33,
     "metadata": {},
     "output_type": "execute_result"
    }
   ],
   "source": [
    "liste"
   ]
  },
  {
   "cell_type": "markdown",
   "id": "9c678788",
   "metadata": {},
   "source": [
    "<b>sort metodu</b>\n",
    "<p>sort metodu listenin elemanlarını sıralamamızı sağlar.</p>"
   ]
  },
  {
   "cell_type": "code",
   "execution_count": 37,
   "id": "c5cc4d27",
   "metadata": {},
   "outputs": [
    {
     "data": {
      "text/plain": [
       "[3, 41, 78, 6532, 9653, 56321]"
      ]
     },
     "execution_count": 37,
     "metadata": {},
     "output_type": "execute_result"
    }
   ],
   "source": [
    "liste7=[6532,9653,41,3,56321,78]\n",
    "liste7.sort() # küçükten büyüğe doğru sıralar\n",
    "liste7"
   ]
  },
  {
   "cell_type": "code",
   "execution_count": 40,
   "id": "f7205cb2",
   "metadata": {},
   "outputs": [
    {
     "data": {
      "text/plain": [
       "['ahmet', 'ali', 'mengüç', 'tarık']"
      ]
     },
     "execution_count": 40,
     "metadata": {},
     "output_type": "execute_result"
    }
   ],
   "source": [
    "liste8=[\"ali\",\"ahmet\",\"tarık\",\"mengüç\"]\n",
    "liste8.sort() #alfabeye göre sıralar\n",
    "liste8"
   ]
  },
  {
   "cell_type": "code",
   "execution_count": 43,
   "id": "a8c8a797",
   "metadata": {},
   "outputs": [
    {
     "data": {
      "text/plain": [
       "['tarık', 'mengüç', 'ali', 'ahmet']"
      ]
     },
     "execution_count": 43,
     "metadata": {},
     "output_type": "execute_result"
    }
   ],
   "source": [
    "liste8.sort(reverse=True) #alfabetik olarak tersten\n",
    "liste8"
   ]
  },
  {
   "cell_type": "code",
   "execution_count": 44,
   "id": "85bd07c9",
   "metadata": {},
   "outputs": [
    {
     "data": {
      "text/plain": [
       "[[4, 7, 8], [7, 3, 45, 12], ['py'], 'cihat', 2]"
      ]
     },
     "execution_count": 44,
     "metadata": {},
     "output_type": "execute_result"
    }
   ],
   "source": [
    "# iç içe listeler\n",
    "liste9=[[4,7,8],[7,3,45,12],[\"py\"],\"cihat\",2]\n",
    "liste9"
   ]
  },
  {
   "cell_type": "code",
   "execution_count": 47,
   "id": "a7ebb15a",
   "metadata": {},
   "outputs": [
    {
     "data": {
      "text/plain": [
       "[7, 3, 45, 12]"
      ]
     },
     "execution_count": 47,
     "metadata": {},
     "output_type": "execute_result"
    }
   ],
   "source": [
    "liste9[1]"
   ]
  },
  {
   "cell_type": "code",
   "execution_count": 48,
   "id": "5d487507",
   "metadata": {},
   "outputs": [
    {
     "data": {
      "text/plain": [
       "45"
      ]
     },
     "execution_count": 48,
     "metadata": {},
     "output_type": "execute_result"
    }
   ],
   "source": [
    "liste9[1][2]"
   ]
  },
  {
   "cell_type": "code",
   "execution_count": null,
   "id": "883d79fa",
   "metadata": {},
   "outputs": [],
   "source": []
  },
  {
   "cell_type": "code",
   "execution_count": null,
   "id": "56fcb6d9",
   "metadata": {},
   "outputs": [],
   "source": []
  },
  {
   "cell_type": "code",
   "execution_count": null,
   "id": "f5c6e64e",
   "metadata": {},
   "outputs": [],
   "source": []
  },
  {
   "cell_type": "code",
   "execution_count": null,
   "id": "2457c94a",
   "metadata": {},
   "outputs": [],
   "source": []
  }
 ],
 "metadata": {
  "kernelspec": {
   "display_name": "Python 3 (ipykernel)",
   "language": "python",
   "name": "python3"
  },
  "language_info": {
   "codemirror_mode": {
    "name": "ipython",
    "version": 3
   },
   "file_extension": ".py",
   "mimetype": "text/x-python",
   "name": "python",
   "nbconvert_exporter": "python",
   "pygments_lexer": "ipython3",
   "version": "3.9.7"
  }
 },
 "nbformat": 4,
 "nbformat_minor": 5
}
