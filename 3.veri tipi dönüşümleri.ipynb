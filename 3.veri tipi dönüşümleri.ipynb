{
 "cells": [
  {
   "cell_type": "markdown",
   "id": "759e21b6",
   "metadata": {},
   "source": [
    "<h1>Veri tipi dönüşümleri</h1>\n",
    "<p>Diğer programlama dilerinde olduğu gibi pythonda da veri tiplerinin birbirlerine dönüştürülmesi oldukça önemlidir. </p>\n",
    "<h1>Tam sayıyı ondalıklı sayıya çevirme</h1>\n",
    "<p>ondalıklı sayı dönüşümü için <b>float()</b> fonksiyonunu kullanırız. </p>"
   ]
  },
  {
   "cell_type": "code",
   "execution_count": 1,
   "id": "068fad33",
   "metadata": {},
   "outputs": [
    {
     "data": {
      "text/plain": [
       "65.0"
      ]
     },
     "execution_count": 1,
     "metadata": {},
     "output_type": "execute_result"
    }
   ],
   "source": [
    "#haydi başlayalım \n",
    "i=65\n",
    "float(i)\n"
   ]
  },
  {
   "cell_type": "code",
   "execution_count": 2,
   "id": "ff6b69e2",
   "metadata": {},
   "outputs": [
    {
     "data": {
      "text/plain": [
       "17.0"
      ]
     },
     "execution_count": 2,
     "metadata": {},
     "output_type": "execute_result"
    }
   ],
   "source": [
    "float(17)"
   ]
  },
  {
   "cell_type": "code",
   "execution_count": 3,
   "id": "b31786c9",
   "metadata": {},
   "outputs": [
    {
     "data": {
      "text/plain": [
       "-32.0"
      ]
     },
     "execution_count": 3,
     "metadata": {},
     "output_type": "execute_result"
    }
   ],
   "source": [
    "float(-32)"
   ]
  },
  {
   "cell_type": "markdown",
   "id": "e2e8cb60",
   "metadata": {},
   "source": [
    "<h2>Ondalıklı sayıdan tamsayıya çevirme</h2>\n",
    "<p>tam sayı dönüşümü için <b>int()</b> fonksiyonu kullanılır.</p>"
   ]
  },
  {
   "cell_type": "code",
   "execution_count": 4,
   "id": "c73762ac",
   "metadata": {},
   "outputs": [
    {
     "data": {
      "text/plain": [
       "45"
      ]
     },
     "execution_count": 4,
     "metadata": {},
     "output_type": "execute_result"
    }
   ],
   "source": [
    "int(45.87)"
   ]
  },
  {
   "cell_type": "code",
   "execution_count": 5,
   "id": "430da170",
   "metadata": {},
   "outputs": [
    {
     "data": {
      "text/plain": [
       "99"
      ]
     },
     "execution_count": 5,
     "metadata": {},
     "output_type": "execute_result"
    }
   ],
   "source": [
    "int(99.99)"
   ]
  },
  {
   "cell_type": "code",
   "execution_count": 6,
   "id": "c799b223",
   "metadata": {},
   "outputs": [
    {
     "data": {
      "text/plain": [
       "-6"
      ]
     },
     "execution_count": 6,
     "metadata": {},
     "output_type": "execute_result"
    }
   ],
   "source": [
    "int(-6.75)"
   ]
  },
  {
   "cell_type": "markdown",
   "id": "3ecbfb9a",
   "metadata": {},
   "source": [
    "<h1>Sayıları string'lere çevirme</h1>\n",
    "<p>string ifadesine çeviri yaparken <b>str()</b> fonksiyonu kullanılır.</p>"
   ]
  },
  {
   "cell_type": "code",
   "execution_count": 9,
   "id": "5149c5b4",
   "metadata": {},
   "outputs": [
    {
     "data": {
      "text/plain": [
       "'5656565'"
      ]
     },
     "execution_count": 9,
     "metadata": {},
     "output_type": "execute_result"
    }
   ],
   "source": [
    "a=5656565\n",
    "b=str(a)\n",
    "b"
   ]
  },
  {
   "cell_type": "code",
   "execution_count": 10,
   "id": "21acdcb0",
   "metadata": {},
   "outputs": [
    {
     "data": {
      "text/plain": [
       "7"
      ]
     },
     "execution_count": 10,
     "metadata": {},
     "output_type": "execute_result"
    }
   ],
   "source": [
    "len(b)"
   ]
  },
  {
   "cell_type": "code",
   "execution_count": 11,
   "id": "d479727b",
   "metadata": {},
   "outputs": [
    {
     "data": {
      "text/plain": [
       "'6547.955623'"
      ]
     },
     "execution_count": 11,
     "metadata": {},
     "output_type": "execute_result"
    }
   ],
   "source": [
    "x=6547.955623\n",
    "v=str(x)\n",
    "v"
   ]
  },
  {
   "cell_type": "code",
   "execution_count": 13,
   "id": "5e7535d6",
   "metadata": {},
   "outputs": [
    {
     "data": {
      "text/plain": [
       "11"
      ]
     },
     "execution_count": 13,
     "metadata": {},
     "output_type": "execute_result"
    }
   ],
   "source": [
    "len(v)"
   ]
  },
  {
   "cell_type": "markdown",
   "id": "40165516",
   "metadata": {},
   "source": [
    "<h1>String'leri tam sayıya çevirme </h1>\n",
    "<p>Bir stringi tam sayıya çevirirken <b>int()</b> fonksiyonu kullanırız.\n",
    "!!!!! Bütün karakterlerin rakam olması gerekmektedir.</p>"
   ]
  },
  {
   "cell_type": "code",
   "execution_count": 14,
   "id": "e2107ae1",
   "metadata": {},
   "outputs": [
    {
     "ename": "ValueError",
     "evalue": "invalid literal for int() with base 10: '5ds456fs41'",
     "output_type": "error",
     "traceback": [
      "\u001b[1;31m---------------------------------------------------------------------------\u001b[0m",
      "\u001b[1;31mValueError\u001b[0m                                Traceback (most recent call last)",
      "\u001b[1;32m~\\AppData\\Local\\Temp/ipykernel_1272/1724220627.py\u001b[0m in \u001b[0;36m<module>\u001b[1;34m\u001b[0m\n\u001b[0;32m      1\u001b[0m \u001b[0mz\u001b[0m\u001b[1;33m=\u001b[0m\u001b[1;34m\"5ds456fs41\"\u001b[0m\u001b[1;33m\u001b[0m\u001b[1;33m\u001b[0m\u001b[0m\n\u001b[1;32m----> 2\u001b[1;33m \u001b[0mint\u001b[0m\u001b[1;33m(\u001b[0m\u001b[0mz\u001b[0m\u001b[1;33m)\u001b[0m\u001b[1;33m\u001b[0m\u001b[1;33m\u001b[0m\u001b[0m\n\u001b[0m",
      "\u001b[1;31mValueError\u001b[0m: invalid literal for int() with base 10: '5ds456fs41'"
     ]
    }
   ],
   "source": [
    "#yanlış kullanım\n",
    "z=\"5ds456fs41\"\n",
    "int(z)"
   ]
  },
  {
   "cell_type": "code",
   "execution_count": 16,
   "id": "191e4fdd",
   "metadata": {},
   "outputs": [
    {
     "data": {
      "text/plain": [
       "84512542"
      ]
     },
     "execution_count": 16,
     "metadata": {},
     "output_type": "execute_result"
    }
   ],
   "source": [
    "#doğru kod\n",
    "m=\"84512542\"\n",
    "int(m)"
   ]
  },
  {
   "cell_type": "markdown",
   "id": "fcd1888b",
   "metadata": {},
   "source": [
    "<h1>String'leri ondalıklı sayıya çevirme</h1>\n",
    "<p>Bir stringi ondalıklı sayıya çevirirken <b>float()</b> fonksiyonu kullanılır.Dönüştürme işlemi yapmadan önce ondalıklı sayı formatına uygun olup olmadığını kontrol etmemiz gerekir.</p>"
   ]
  },
  {
   "cell_type": "code",
   "execution_count": 17,
   "id": "4578afc4",
   "metadata": {},
   "outputs": [
    {
     "ename": "ValueError",
     "evalue": "could not convert string to float: '641.51.85'",
     "output_type": "error",
     "traceback": [
      "\u001b[1;31m---------------------------------------------------------------------------\u001b[0m",
      "\u001b[1;31mValueError\u001b[0m                                Traceback (most recent call last)",
      "\u001b[1;32m~\\AppData\\Local\\Temp/ipykernel_1272/4069569204.py\u001b[0m in \u001b[0;36m<module>\u001b[1;34m\u001b[0m\n\u001b[0;32m      1\u001b[0m \u001b[0mf\u001b[0m\u001b[1;33m=\u001b[0m\u001b[1;34m\"641.51.85\"\u001b[0m\u001b[1;33m\u001b[0m\u001b[1;33m\u001b[0m\u001b[0m\n\u001b[1;32m----> 2\u001b[1;33m \u001b[0mh\u001b[0m\u001b[1;33m=\u001b[0m\u001b[0mfloat\u001b[0m\u001b[1;33m(\u001b[0m\u001b[0mf\u001b[0m\u001b[1;33m)\u001b[0m\u001b[1;33m\u001b[0m\u001b[1;33m\u001b[0m\u001b[0m\n\u001b[0m\u001b[0;32m      3\u001b[0m \u001b[0mf\u001b[0m\u001b[1;33m\u001b[0m\u001b[1;33m\u001b[0m\u001b[0m\n",
      "\u001b[1;31mValueError\u001b[0m: could not convert string to float: '641.51.85'"
     ]
    }
   ],
   "source": [
    "#hatalı\n",
    "f=\"641.51.85\"\n",
    "h=float(f)\n",
    "f"
   ]
  },
  {
   "cell_type": "code",
   "execution_count": 18,
   "id": "1d5d2e7f",
   "metadata": {},
   "outputs": [
    {
     "data": {
      "text/plain": [
       "956.84651"
      ]
     },
     "execution_count": 18,
     "metadata": {},
     "output_type": "execute_result"
    }
   ],
   "source": [
    "#doğru\n",
    "l=\"956.84651\"\n",
    "p=float(l)\n",
    "p"
   ]
  },
  {
   "cell_type": "code",
   "execution_count": 19,
   "id": "eeaae955",
   "metadata": {},
   "outputs": [
    {
     "data": {
      "text/plain": [
       "65665656562.0"
      ]
     },
     "execution_count": 19,
     "metadata": {},
     "output_type": "execute_result"
    }
   ],
   "source": [
    "j=\"65665656562\"\n",
    "g=float(j)\n",
    "g"
   ]
  },
  {
   "cell_type": "code",
   "execution_count": null,
   "id": "9f41851e",
   "metadata": {},
   "outputs": [],
   "source": []
  },
  {
   "cell_type": "code",
   "execution_count": null,
   "id": "0a50c74f",
   "metadata": {},
   "outputs": [],
   "source": []
  }
 ],
 "metadata": {
  "kernelspec": {
   "display_name": "Python 3 (ipykernel)",
   "language": "python",
   "name": "python3"
  },
  "language_info": {
   "codemirror_mode": {
    "name": "ipython",
    "version": 3
   },
   "file_extension": ".py",
   "mimetype": "text/x-python",
   "name": "python",
   "nbconvert_exporter": "python",
   "pygments_lexer": "ipython3",
   "version": "3.9.7"
  }
 },
 "nbformat": 4,
 "nbformat_minor": 5
}
