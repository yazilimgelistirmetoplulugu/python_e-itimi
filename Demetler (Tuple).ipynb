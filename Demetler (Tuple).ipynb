{
 "cells": [
  {
   "cell_type": "markdown",
   "id": "1de659aa",
   "metadata": {},
   "source": [
    "<h1>DEMETLER(TUPLE)</h1>\n",
    "<P>Listelerden farkı değiştirilemez olmalarıdır. programımızda değiştirilmesini istemediğimiz yerlerde kullanırız.</P>"
   ]
  },
  {
   "cell_type": "code",
   "execution_count": 1,
   "id": "e0596c1f",
   "metadata": {},
   "outputs": [
    {
     "data": {
      "text/plain": [
       "(41, 852, 51, 631, 5623)"
      ]
     },
     "execution_count": 1,
     "metadata": {},
     "output_type": "execute_result"
    }
   ],
   "source": [
    "# demetler normal parantez içine yazılır\n",
    "demet=(41,852,51,631,5623)\n",
    "demet"
   ]
  },
  {
   "cell_type": "code",
   "execution_count": 2,
   "id": "cc2ff0a3",
   "metadata": {},
   "outputs": [
    {
     "data": {
      "text/plain": [
       "tuple"
      ]
     },
     "execution_count": 2,
     "metadata": {},
     "output_type": "execute_result"
    }
   ],
   "source": [
    "#tipini sorgulayalım\n",
    "type(demet)"
   ]
  },
  {
   "cell_type": "code",
   "execution_count": 3,
   "id": "184b14ac",
   "metadata": {},
   "outputs": [
    {
     "data": {
      "text/plain": [
       "51"
      ]
     },
     "execution_count": 3,
     "metadata": {},
     "output_type": "execute_result"
    }
   ],
   "source": [
    "#indeksleme yapılabilir\n",
    "demet[2]"
   ]
  },
  {
   "cell_type": "code",
   "execution_count": 5,
   "id": "8c3c0daa",
   "metadata": {},
   "outputs": [
    {
     "data": {
      "text/plain": [
       "(852, 51, 631)"
      ]
     },
     "execution_count": 5,
     "metadata": {},
     "output_type": "execute_result"
    }
   ],
   "source": [
    "#demeti parçalayalım\n",
    "demet[1:4]"
   ]
  },
  {
   "cell_type": "code",
   "execution_count": 7,
   "id": "db4bce0b",
   "metadata": {},
   "outputs": [
    {
     "data": {
      "text/plain": [
       "6"
      ]
     },
     "execution_count": 7,
     "metadata": {},
     "output_type": "execute_result"
    }
   ],
   "source": [
    "#count fonksiyonu kullanımı\n",
    "demet1=(1,56,12,2,1,2,6,1,8,16,6,62,6,16,6,6,1,6,1)\n",
    "demet1.count(6)"
   ]
  },
  {
   "cell_type": "code",
   "execution_count": 12,
   "id": "a7b3ddd7",
   "metadata": {},
   "outputs": [
    {
     "data": {
      "text/plain": [
       "9"
      ]
     },
     "execution_count": 12,
     "metadata": {},
     "output_type": "execute_result"
    }
   ],
   "source": [
    "#index fonksiyonu kullanımı\n",
    "demet1.index(16)"
   ]
  },
  {
   "cell_type": "markdown",
   "id": "4f2df2c5",
   "metadata": {},
   "source": [
    "<b>demetler değiştirilemezler!!!!</b>"
   ]
  },
  {
   "cell_type": "code",
   "execution_count": 13,
   "id": "23fb5764",
   "metadata": {},
   "outputs": [
    {
     "ename": "TypeError",
     "evalue": "'tuple' object does not support item assignment",
     "output_type": "error",
     "traceback": [
      "\u001b[1;31m---------------------------------------------------------------------------\u001b[0m",
      "\u001b[1;31mTypeError\u001b[0m                                 Traceback (most recent call last)",
      "\u001b[1;32m~\\AppData\\Local\\Temp/ipykernel_9112/56561403.py\u001b[0m in \u001b[0;36m<module>\u001b[1;34m\u001b[0m\n\u001b[0;32m      1\u001b[0m \u001b[0md\u001b[0m\u001b[1;33m=\u001b[0m\u001b[1;33m(\u001b[0m\u001b[1;34m\"p\"\u001b[0m\u001b[1;33m,\u001b[0m\u001b[1;34m\"y\"\u001b[0m\u001b[1;33m,\u001b[0m\u001b[1;34m\"t\"\u001b[0m\u001b[1;33m,\u001b[0m\u001b[1;34m\"h\"\u001b[0m\u001b[1;33m,\u001b[0m\u001b[1;34m\"o\"\u001b[0m\u001b[1;33m,\u001b[0m\u001b[1;34m\"n\"\u001b[0m\u001b[1;33m)\u001b[0m\u001b[1;33m\u001b[0m\u001b[1;33m\u001b[0m\u001b[0m\n\u001b[1;32m----> 2\u001b[1;33m \u001b[0md\u001b[0m\u001b[1;33m[\u001b[0m\u001b[1;36m2\u001b[0m\u001b[1;33m]\u001b[0m\u001b[1;33m=\u001b[0m\u001b[1;34m\"k\"\u001b[0m\u001b[1;33m\u001b[0m\u001b[1;33m\u001b[0m\u001b[0m\n\u001b[0m",
      "\u001b[1;31mTypeError\u001b[0m: 'tuple' object does not support item assignment"
     ]
    }
   ],
   "source": [
    "d=(\"p\",\"y\",\"t\",\"h\",\"o\",\"n\")\n",
    "d[2]=\"k\""
   ]
  },
  {
   "cell_type": "code",
   "execution_count": null,
   "id": "63ce8f42",
   "metadata": {},
   "outputs": [],
   "source": []
  }
 ],
 "metadata": {
  "kernelspec": {
   "display_name": "Python 3 (ipykernel)",
   "language": "python",
   "name": "python3"
  },
  "language_info": {
   "codemirror_mode": {
    "name": "ipython",
    "version": 3
   },
   "file_extension": ".py",
   "mimetype": "text/x-python",
   "name": "python",
   "nbconvert_exporter": "python",
   "pygments_lexer": "ipython3",
   "version": "3.9.7"
  }
 },
 "nbformat": 4,
 "nbformat_minor": 5
}
