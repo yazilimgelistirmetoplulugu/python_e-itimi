{
 "cells": [
  {
   "cell_type": "markdown",
   "id": "90ec9d59",
   "metadata": {},
   "source": [
    "<h1>SÖZLÜKLER</h1>\n",
    "<p>Sözlükler diğer veri tiplerinden farklıdır burda sözcüğün içindeki elemanlar index metodu yerine , anahtar (key),değer(value) olarak tutulur.</p>"
   ]
  },
  {
   "cell_type": "code",
   "execution_count": 5,
   "id": "36f4bf82",
   "metadata": {},
   "outputs": [
    {
     "data": {
      "text/plain": [
       "{}"
      ]
     },
     "execution_count": 5,
     "metadata": {},
     "output_type": "execute_result"
    }
   ],
   "source": [
    "#boş sözlük oluşturalım\n",
    "sozluk={}\n",
    "sozluk"
   ]
  },
  {
   "cell_type": "code",
   "execution_count": 27,
   "id": "fa60e501",
   "metadata": {},
   "outputs": [
    {
     "data": {
      "text/plain": [
       "{}"
      ]
     },
     "execution_count": 27,
     "metadata": {},
     "output_type": "execute_result"
    }
   ],
   "source": [
    "#dict() fonksiyonu ile boş sözlük oluşturma\n",
    "a=dict()\n",
    "a"
   ]
  },
  {
   "cell_type": "code",
   "execution_count": 2,
   "id": "a56aaa64",
   "metadata": {},
   "outputs": [
    {
     "data": {
      "text/plain": [
       "{'bir': 1, 'iki': 2, 'üç': 3, 'dört': 4, 'beş': 5, 'altı': 6}"
      ]
     },
     "execution_count": 2,
     "metadata": {},
     "output_type": "execute_result"
    }
   ],
   "source": [
    "#{süslü parantez} ve : iki nokta kulanımı\n",
    "sozluk1 ={\"bir\":1,\"iki\":2,\"üç\":3,\"dört\":4,\"beş\":5,\"altı\":6}\n",
    "sozluk1"
   ]
  },
  {
   "cell_type": "code",
   "execution_count": 8,
   "id": "1d0b14d2",
   "metadata": {},
   "outputs": [
    {
     "data": {
      "text/plain": [
       "dict"
      ]
     },
     "execution_count": 8,
     "metadata": {},
     "output_type": "execute_result"
    }
   ],
   "source": [
    "#type() fonksiyonu ile sorgulayalım\n",
    "type(sozluk1)"
   ]
  },
  {
   "cell_type": "code",
   "execution_count": 12,
   "id": "763bf609",
   "metadata": {},
   "outputs": [
    {
     "data": {
      "text/plain": [
       "3"
      ]
     },
     "execution_count": 12,
     "metadata": {},
     "output_type": "execute_result"
    }
   ],
   "source": [
    "#sözlük içindeki elemanı sorgulayalım\n",
    "sozluk1[\"üç\"]"
   ]
  },
  {
   "cell_type": "code",
   "execution_count": 13,
   "id": "bacd6c4d",
   "metadata": {},
   "outputs": [
    {
     "ename": "KeyError",
     "evalue": "'yedi'",
     "output_type": "error",
     "traceback": [
      "\u001b[1;31m---------------------------------------------------------------------------\u001b[0m",
      "\u001b[1;31mKeyError\u001b[0m                                  Traceback (most recent call last)",
      "\u001b[1;32m~\\AppData\\Local\\Temp/ipykernel_6740/1307465679.py\u001b[0m in \u001b[0;36m<module>\u001b[1;34m\u001b[0m\n\u001b[1;32m----> 1\u001b[1;33m \u001b[0msozluk1\u001b[0m\u001b[1;33m[\u001b[0m\u001b[1;34m\"yedi\"\u001b[0m\u001b[1;33m]\u001b[0m\u001b[1;33m\u001b[0m\u001b[1;33m\u001b[0m\u001b[0m\n\u001b[0m",
      "\u001b[1;31mKeyError\u001b[0m: 'yedi'"
     ]
    }
   ],
   "source": [
    "sozluk1[\"yedi\"]"
   ]
  },
  {
   "cell_type": "code",
   "execution_count": 28,
   "id": "8dbaaad3",
   "metadata": {},
   "outputs": [
    {
     "data": {
      "text/plain": [
       "{'on': 10}"
      ]
     },
     "execution_count": 28,
     "metadata": {},
     "output_type": "execute_result"
    }
   ],
   "source": [
    "#sözlüğe eleman ekleme işlemi\n",
    "a[\"on\"]=10\n",
    "a"
   ]
  },
  {
   "cell_type": "code",
   "execution_count": 30,
   "id": "e9730900",
   "metadata": {},
   "outputs": [
    {
     "data": {
      "text/plain": [
       "{'python': 'eğitimi', 'ders': 3}"
      ]
     },
     "execution_count": 30,
     "metadata": {},
     "output_type": "execute_result"
    }
   ],
   "source": [
    "#sözlüğe string ifade ekleyelim\n",
    "s={\"python\":\"eğitimi\",\"ders\":3}\n",
    "s"
   ]
  },
  {
   "cell_type": "code",
   "execution_count": 31,
   "id": "cd3e9cb2",
   "metadata": {},
   "outputs": [
    {
     "data": {
      "text/plain": [
       "'eğitimi'"
      ]
     },
     "execution_count": 31,
     "metadata": {},
     "output_type": "execute_result"
    }
   ],
   "source": [
    "s[\"python\"]"
   ]
  },
  {
   "cell_type": "code",
   "execution_count": 33,
   "id": "455f1b35",
   "metadata": {},
   "outputs": [
    {
     "ename": "KeyError",
     "evalue": "'eğitimi'",
     "output_type": "error",
     "traceback": [
      "\u001b[1;31m---------------------------------------------------------------------------\u001b[0m",
      "\u001b[1;31mKeyError\u001b[0m                                  Traceback (most recent call last)",
      "\u001b[1;32m~\\AppData\\Local\\Temp/ipykernel_6740/3703412796.py\u001b[0m in \u001b[0;36m<module>\u001b[1;34m\u001b[0m\n\u001b[1;32m----> 1\u001b[1;33m \u001b[0ms\u001b[0m\u001b[1;33m[\u001b[0m\u001b[1;34m\"eğitimi\"\u001b[0m\u001b[1;33m]\u001b[0m\u001b[1;33m\u001b[0m\u001b[1;33m\u001b[0m\u001b[0m\n\u001b[0m",
      "\u001b[1;31mKeyError\u001b[0m: 'eğitimi'"
     ]
    }
   ],
   "source": [
    "s[\"eğitimi\"]"
   ]
  },
  {
   "cell_type": "code",
   "execution_count": 38,
   "id": "81fa52f8",
   "metadata": {},
   "outputs": [
    {
     "data": {
      "text/plain": [
       "{'yazılım': [1, 5, 6, 9],\n",
       " 'geliştirme': [[4, 6], [7, 8], [32, 12]],\n",
       " 'topluluğu': 12}"
      ]
     },
     "execution_count": 38,
     "metadata": {},
     "output_type": "execute_result"
    }
   ],
   "source": [
    "#dözlük içerisine lister ekleyelim\n",
    "d={\"yazılım\":[1,5,6,9],\"geliştirme\":[[4,6],[7,8],[32,12]],\"topluluğu\":12}\n",
    "d"
   ]
  },
  {
   "cell_type": "code",
   "execution_count": 39,
   "id": "05b97161",
   "metadata": {},
   "outputs": [
    {
     "data": {
      "text/plain": [
       "[1, 5, 6, 9]"
      ]
     },
     "execution_count": 39,
     "metadata": {},
     "output_type": "execute_result"
    }
   ],
   "source": [
    "d[\"yazılım\"]"
   ]
  },
  {
   "cell_type": "code",
   "execution_count": 40,
   "id": "eaccdd5c",
   "metadata": {},
   "outputs": [
    {
     "data": {
      "text/plain": [
       "32"
      ]
     },
     "execution_count": 40,
     "metadata": {},
     "output_type": "execute_result"
    }
   ],
   "source": [
    "d[\"geliştirme\"][2][0]"
   ]
  },
  {
   "cell_type": "markdown",
   "id": "eb7365ac",
   "metadata": {},
   "source": [
    "<b>eleman değiştirme işlemi</b>"
   ]
  },
  {
   "cell_type": "code",
   "execution_count": 44,
   "id": "85c3b872",
   "metadata": {},
   "outputs": [
    {
     "data": {
      "text/plain": [
       "{'bir': 1, 'iki': 2, 'üç': 3, 'dört': 4, 'beş': 5, 'altı': 6}"
      ]
     },
     "execution_count": 44,
     "metadata": {},
     "output_type": "execute_result"
    }
   ],
   "source": [
    "sozluk1"
   ]
  },
  {
   "cell_type": "code",
   "execution_count": 46,
   "id": "1f2468f9",
   "metadata": {},
   "outputs": [
    {
     "data": {
      "text/plain": [
       "{'bir': 11, 'iki': 2, 'üç': 3, 'dört': 4, 'beş': 5, 'altı': 6}"
      ]
     },
     "execution_count": 46,
     "metadata": {},
     "output_type": "execute_result"
    }
   ],
   "source": [
    "sozluk1[\"bir\"]=11\n",
    "sozluk1"
   ]
  },
  {
   "cell_type": "code",
   "execution_count": 48,
   "id": "ce56f24b",
   "metadata": {},
   "outputs": [
    {
     "data": {
      "text/plain": [
       "{'yazılım': [1, 5, 12, 9],\n",
       " 'geliştirme': [[4, 6], [7, 8], [32, 12]],\n",
       " 'topluluğu': 12}"
      ]
     },
     "execution_count": 48,
     "metadata": {},
     "output_type": "execute_result"
    }
   ],
   "source": [
    "d[\"yazılım\"][2]=12\n",
    "d"
   ]
  },
  {
   "cell_type": "code",
   "execution_count": 49,
   "id": "25dcdf79",
   "metadata": {},
   "outputs": [
    {
     "data": {
      "text/plain": [
       "{'yazılım': [1, 5, 12, 9],\n",
       " 'geliştirme': [[4, 6], [7, 100], [32, 12]],\n",
       " 'topluluğu': 12}"
      ]
     },
     "execution_count": 49,
     "metadata": {},
     "output_type": "execute_result"
    }
   ],
   "source": [
    "d[\"geliştirme\"][1][1]=100\n",
    "d"
   ]
  },
  {
   "cell_type": "markdown",
   "id": "6c8d941c",
   "metadata": {},
   "source": [
    "<b>iç içe sözlükler</b>"
   ]
  },
  {
   "cell_type": "code",
   "execution_count": 50,
   "id": "9c056de8",
   "metadata": {},
   "outputs": [
    {
     "data": {
      "text/plain": [
       "{'eğitimler': {'python': '.py', 'yapay': 'zeka'},\n",
       " 'diller': {'python': 'NT', 'php': 'web'}}"
      ]
     },
     "execution_count": 50,
     "metadata": {},
     "output_type": "execute_result"
    }
   ],
   "source": [
    "f={\"eğitimler\":{\"python\":\".py\",\"yapay\":\"zeka\"},\"diller\":{\"python\":\"NT\",\"php\":\"web\"}}\n",
    "f"
   ]
  },
  {
   "cell_type": "code",
   "execution_count": 53,
   "id": "509dabe6",
   "metadata": {},
   "outputs": [
    {
     "data": {
      "text/plain": [
       "{'python': 'NT', 'php': 'web'}"
      ]
     },
     "execution_count": 53,
     "metadata": {},
     "output_type": "execute_result"
    }
   ],
   "source": [
    "f[\"diller\"]"
   ]
  },
  {
   "cell_type": "code",
   "execution_count": 54,
   "id": "00631074",
   "metadata": {},
   "outputs": [
    {
     "data": {
      "text/plain": [
       "'.py'"
      ]
     },
     "execution_count": 54,
     "metadata": {},
     "output_type": "execute_result"
    }
   ],
   "source": [
    "f[\"eğitimler\"][\"python\"]"
   ]
  },
  {
   "cell_type": "markdown",
   "id": "f99d7b34",
   "metadata": {},
   "source": [
    "<b>Temel Sözlük Metodları</b>"
   ]
  },
  {
   "cell_type": "code",
   "execution_count": 57,
   "id": "96098de1",
   "metadata": {},
   "outputs": [
    {
     "data": {
      "text/plain": [
       "{'döner': 'et',\n",
       " 'ayran': 'süt',\n",
       " 'baklava': 'tatlı',\n",
       " 'muz': 'meyve',\n",
       " 'ıspanak': 'sebze'}"
      ]
     },
     "execution_count": 57,
     "metadata": {},
     "output_type": "execute_result"
    }
   ],
   "source": [
    "g={\"döner\":\"et\",\"ayran\":\"süt\",\"baklava\":\"tatlı\",\"muz\":\"meyve\",\"ıspanak\":\"sebze\"}\n",
    "g"
   ]
  },
  {
   "cell_type": "code",
   "execution_count": 63,
   "id": "b8004e31",
   "metadata": {},
   "outputs": [
    {
     "data": {
      "text/plain": [
       "dict_values(['et', 'süt', 'tatlı', 'meyve', 'sebze'])"
      ]
     },
     "execution_count": 63,
     "metadata": {},
     "output_type": "execute_result"
    }
   ],
   "source": [
    "#values() metodu işlevi : değerleri liste olarak döner\n",
    "g.values()"
   ]
  },
  {
   "cell_type": "code",
   "execution_count": 64,
   "id": "f84c618e",
   "metadata": {},
   "outputs": [
    {
     "data": {
      "text/plain": [
       "dict_keys(['döner', 'ayran', 'baklava', 'muz', 'ıspanak'])"
      ]
     },
     "execution_count": 64,
     "metadata": {},
     "output_type": "execute_result"
    }
   ],
   "source": [
    "#keys() metodu işlevi : anahtar kelimeleri liste olarak döner\n",
    "g.keys()"
   ]
  },
  {
   "cell_type": "code",
   "execution_count": 65,
   "id": "20afbd54",
   "metadata": {},
   "outputs": [
    {
     "data": {
      "text/plain": [
       "dict_items([('döner', 'et'), ('ayran', 'süt'), ('baklava', 'tatlı'), ('muz', 'meyve'), ('ıspanak', 'sebze')])"
      ]
     },
     "execution_count": 65,
     "metadata": {},
     "output_type": "execute_result"
    }
   ],
   "source": [
    "#items() metodu işlevi : anahtar kelimeyi ve değerini liste içinde demet olarak döner\n",
    "g.items()"
   ]
  },
  {
   "cell_type": "code",
   "execution_count": null,
   "id": "b6cade70",
   "metadata": {},
   "outputs": [],
   "source": []
  },
  {
   "cell_type": "code",
   "execution_count": null,
   "id": "e55747af",
   "metadata": {},
   "outputs": [],
   "source": []
  }
 ],
 "metadata": {
  "kernelspec": {
   "display_name": "Python 3 (ipykernel)",
   "language": "python",
   "name": "python3"
  },
  "language_info": {
   "codemirror_mode": {
    "name": "ipython",
    "version": 3
   },
   "file_extension": ".py",
   "mimetype": "text/x-python",
   "name": "python",
   "nbconvert_exporter": "python",
   "pygments_lexer": "ipython3",
   "version": "3.9.7"
  }
 },
 "nbformat": 4,
 "nbformat_minor": 5
}
