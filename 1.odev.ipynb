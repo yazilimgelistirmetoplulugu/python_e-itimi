{
 "cells": [
  {
   "cell_type": "code",
   "execution_count": null,
   "id": "a7229385",
   "metadata": {},
   "outputs": [],
   "source": [
    "\"\"\"-----------------------------------------------------------------------------------------------\n",
    "1. soru\n",
    "Kullanıcıdan alınan boy ve kilo değerlerine göre beden kitle indeksini hesaplayın ve şu kurallara göre ekrana şu yazıları yazdırın.\n",
    "\n",
    " Beden Kitle İndeksi: Kilo / Boy(m) *  Boy(m)\n",
    "\n",
    " BKİ 18.5'un altındaysa -------> Zayıf\n",
    "\n",
    " BKİ 18.5 ile 25 arasındaysa ------> Normal\n",
    "\n",
    " BKİ 25 ile 30 arasındaysa --------> Fazla Kilolu\n",
    "\n",
    " BKİ 30'un üstündeyse -------------> Obez\n",
    "------------------------------------------------------------------------------------------------\n",
    "2. soru\n",
    "kullanıcıdan alınan 2 (int&float) ifadeyi kulanarak basit matematiksel işlemler yapabilen bir hesap makinesi yapalım.\n",
    "yapılan işlemi ekrana bastıralım.\n",
    "\n",
    "a)toplama işlemi\n",
    "b)çıkarma işlemi\n",
    "c)çarpma işlemi\n",
    "d)bölme işlemi\n",
    "f)üslü ifade\n",
    "\n",
    "hesap makinesinde tüm bu işlemleri gösteren bir giriş menüsü olsun.\n",
    "\n",
    "\n",
    "\n",
    "\n",
    "---------------------------------------------......kolay gelsin .....---------------------------------------------------\"\"\""
   ]
  },
  {
   "cell_type": "code",
   "execution_count": 4,
   "id": "55f4c24c",
   "metadata": {},
   "outputs": [
    {
     "name": "stdout",
     "output_type": "stream",
     "text": [
      "\n",
      "*******************************\n",
      "BKİ HEAPLAMA\n",
      "************************\n",
      "lütfen boyunuzu metre cinsinden giriniz: 1.75\n",
      "lütfen kilonuzu kg cinsinden giriniz: 70\n",
      "normal\n"
     ]
    }
   ],
   "source": [
    "print(\"\"\"\n",
    "*******************************\n",
    "BKİ HEAPLAMA\n",
    "************************\"\"\")\n",
    "i=float(input(\"lütfen boyunuzu metre cinsinden giriniz: \"))\n",
    "j=float(input(\"lütfen kilonuzu kg cinsinden giriniz: \"))\n",
    "bki=j/(i**2)\n",
    "\n",
    "if bki<18.5:\n",
    "    print(\"zayıf\")\n",
    "elif bki<25:\n",
    "    print(\"normal\")\n",
    "elif bki<30:\n",
    "    print(\"fazla kilolu\")\n",
    "else:\n",
    "    print(\"obez\")"
   ]
  },
  {
   "cell_type": "code",
   "execution_count": 8,
   "id": "9547dc24",
   "metadata": {},
   "outputs": [
    {
     "name": "stdout",
     "output_type": "stream",
     "text": [
      "\n",
      "*******************************\n",
      "HESAP MAKİNESİ\n",
      "*******************\n",
      "TOPLAMA İŞLEMİ (+)\n",
      "ÇIKARMA İŞLEMİ (-)\n",
      "ÇARPMA İŞLEMİ  (*)\n",
      "BÖLME İŞLEMİ   (/)\n",
      "ÜSTEL İFADELER (**)\n",
      "********************************\n",
      "\n",
      "lütfen 1. sayıyı giriniz: 8\n",
      "lütfen bir işlem seçiniz: **\n",
      "lütfen 2. sayıyı giriniz: 3\n",
      "8.0^3.0=512.0\n"
     ]
    }
   ],
   "source": [
    "print(\"\"\"\n",
    "*******************************\n",
    "HESAP MAKİNESİ\n",
    "*******************\n",
    "TOPLAMA İŞLEMİ (+)\n",
    "ÇIKARMA İŞLEMİ (-)\n",
    "ÇARPMA İŞLEMİ  (*)\n",
    "BÖLME İŞLEMİ   (/)\n",
    "ÜSTEL İFADELER (**)\n",
    "********************************\n",
    "\"\"\")\n",
    "\n",
    "a=float(input(\"lütfen 1. sayıyı giriniz: \"))\n",
    "işlem=input(\"lütfen bir işlem seçiniz: \")\n",
    "b=float(input(\"lütfen 2. sayıyı giriniz: \"))\n",
    "\n",
    "if işlem==\"+\":\n",
    "    print(\"{}+{}={}\".format(a,b,a+b))\n",
    "elif işlem==\"-\":\n",
    "    print(\"{}-{}={}\".format(a,b,a-b))\n",
    "elif işlem==\"*\":\n",
    "    print(\"{}*{}={}\".format(a,b,a*b))\n",
    "elif işlem==\"/\":\n",
    "    print(\"{}/{}={}\".format(a,b,a/b))\n",
    "elif işlem==\"**\":\n",
    "    print(\"{}^{}={}\".format(a,b,a**b))\n",
    "else:\n",
    "    print(\"geçersiz bir işlem yaptınız\")"
   ]
  },
  {
   "cell_type": "code",
   "execution_count": null,
   "id": "74c87279",
   "metadata": {},
   "outputs": [],
   "source": []
  },
  {
   "cell_type": "code",
   "execution_count": null,
   "id": "c89e71ac",
   "metadata": {},
   "outputs": [],
   "source": []
  }
 ],
 "metadata": {
  "kernelspec": {
   "display_name": "Python 3 (ipykernel)",
   "language": "python",
   "name": "python3"
  },
  "language_info": {
   "codemirror_mode": {
    "name": "ipython",
    "version": 3
   },
   "file_extension": ".py",
   "mimetype": "text/x-python",
   "name": "python",
   "nbconvert_exporter": "python",
   "pygments_lexer": "ipython3",
   "version": "3.9.7"
  }
 },
 "nbformat": 4,
 "nbformat_minor": 5
}
