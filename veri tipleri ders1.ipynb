{
 "cells": [
  {
   "cell_type": "markdown",
   "id": "dae28794",
   "metadata": {},
   "source": []
  },
  {
   "cell_type": "markdown",
   "id": "57261809",
   "metadata": {},
   "source": [
    "<h1>PYTHONDA SAYILAR</h1>\n",
    "</ul>\n",
    "    <li>Tam sayılar (Integer) ve Ondalıklı sayılar (Float)</li>\n",
    "    <li> Basit matematik işlemleri</li>\n",
    "    <li> Değişken tanımlama</li>\n",
    "\n",
    "<h1>INTEGER (int)</h1>\n",
    "<p>tam sayı örnekleri : \n",
    "  5,6,7,8,254,365479,452</p>\n",
    "\n",
    "<h1>FLOAT(float)</h1>\n",
    "<p>ondalıklı sayı örnekleri :\n",
    "1.5, 58.6, 2526.49562, 0.26552\n",
    "</p>\n",
    "\n",
    "<h1>BASİT MATEMATİKSEL İŞLEMLER</h1>\n",
    "<ul>\n",
    "    <li>1-TOPLAMA</li>\n",
    "    <li>2-ÇIKARMA</li>\n",
    "    <li>3-ÇAPMA</li>\n",
    "    <li>4-BÖLME</li>\n",
    "    <li>5-ÜSLÜ</li>\n",
    "    <li>6-KÖKLÜ</li>\n",
    "</ul>"
   ]
  },
  {
   "cell_type": "code",
   "execution_count": 29,
   "id": "3cf0ae04",
   "metadata": {},
   "outputs": [
    {
     "data": {
      "text/plain": [
       "150"
      ]
     },
     "execution_count": 29,
     "metadata": {},
     "output_type": "execute_result"
    }
   ],
   "source": [
    "#TOPLAMA\n",
    "100+50\n"
   ]
  },
  {
   "cell_type": "code",
   "execution_count": 30,
   "id": "9992bba2",
   "metadata": {},
   "outputs": [
    {
     "data": {
      "text/plain": [
       "114"
      ]
     },
     "execution_count": 30,
     "metadata": {},
     "output_type": "execute_result"
    }
   ],
   "source": [
    "54+60"
   ]
  },
  {
   "cell_type": "code",
   "execution_count": 14,
   "id": "5739638f",
   "metadata": {},
   "outputs": [
    {
     "data": {
      "text/plain": [
       "118.74000000000001"
      ]
     },
     "execution_count": 14,
     "metadata": {},
     "output_type": "execute_result"
    }
   ],
   "source": [
    "99.14+19.6"
   ]
  },
  {
   "cell_type": "code",
   "execution_count": 31,
   "id": "2f3f2ed9",
   "metadata": {},
   "outputs": [
    {
     "data": {
      "text/plain": [
       "6.03"
      ]
     },
     "execution_count": 31,
     "metadata": {},
     "output_type": "execute_result"
    }
   ],
   "source": [
    "0.25+5.78"
   ]
  },
  {
   "cell_type": "code",
   "execution_count": 2,
   "id": "04f56dd0",
   "metadata": {},
   "outputs": [
    {
     "data": {
      "text/plain": [
       "50"
      ]
     },
     "execution_count": 2,
     "metadata": {},
     "output_type": "execute_result"
    }
   ],
   "source": [
    "#ÇIKARMA\n",
    "100-50"
   ]
  },
  {
   "cell_type": "code",
   "execution_count": 32,
   "id": "3d236243",
   "metadata": {},
   "outputs": [
    {
     "data": {
      "text/plain": [
       "14"
      ]
     },
     "execution_count": 32,
     "metadata": {},
     "output_type": "execute_result"
    }
   ],
   "source": [
    "20-6"
   ]
  },
  {
   "cell_type": "code",
   "execution_count": 3,
   "id": "e48467c5",
   "metadata": {},
   "outputs": [
    {
     "data": {
      "text/plain": [
       "50.0"
      ]
     },
     "execution_count": 3,
     "metadata": {},
     "output_type": "execute_result"
    }
   ],
   "source": [
    "#BÖLME\n",
    "100/2"
   ]
  },
  {
   "cell_type": "code",
   "execution_count": 4,
   "id": "de919529",
   "metadata": {},
   "outputs": [
    {
     "data": {
      "text/plain": [
       "100"
      ]
     },
     "execution_count": 4,
     "metadata": {},
     "output_type": "execute_result"
    }
   ],
   "source": [
    "#ÇARPMA\n",
    "50*2"
   ]
  },
  {
   "cell_type": "code",
   "execution_count": 33,
   "id": "b85c336c",
   "metadata": {},
   "outputs": [
    {
     "data": {
      "text/plain": [
       "27.027027027027028"
      ]
     },
     "execution_count": 33,
     "metadata": {},
     "output_type": "execute_result"
    }
   ],
   "source": [
    "1000/37"
   ]
  },
  {
   "cell_type": "code",
   "execution_count": 5,
   "id": "ccd6383e",
   "metadata": {},
   "outputs": [
    {
     "data": {
      "text/plain": [
       "4"
      ]
     },
     "execution_count": 5,
     "metadata": {},
     "output_type": "execute_result"
    }
   ],
   "source": [
    "#ÜSLÜ\n",
    "2**2"
   ]
  },
  {
   "cell_type": "code",
   "execution_count": 34,
   "id": "13ee59f8",
   "metadata": {},
   "outputs": [
    {
     "data": {
      "text/plain": [
       "15625"
      ]
     },
     "execution_count": 34,
     "metadata": {},
     "output_type": "execute_result"
    }
   ],
   "source": [
    "5**6"
   ]
  },
  {
   "cell_type": "code",
   "execution_count": 6,
   "id": "4730306b",
   "metadata": {},
   "outputs": [
    {
     "data": {
      "text/plain": [
       "2.0"
      ]
     },
     "execution_count": 6,
     "metadata": {},
     "output_type": "execute_result"
    }
   ],
   "source": [
    "#KÖKLÜ\n",
    "4**1/2"
   ]
  },
  {
   "cell_type": "code",
   "execution_count": 35,
   "id": "7e42ab02",
   "metadata": {},
   "outputs": [
    {
     "data": {
      "text/plain": [
       "21.333333333333332"
      ]
     },
     "execution_count": 35,
     "metadata": {},
     "output_type": "execute_result"
    }
   ],
   "source": [
    "8**2/3"
   ]
  },
  {
   "cell_type": "code",
   "execution_count": 9,
   "id": "07aaa9f6",
   "metadata": {},
   "outputs": [
    {
     "data": {
      "text/plain": [
       "2.0"
      ]
     },
     "execution_count": 9,
     "metadata": {},
     "output_type": "execute_result"
    }
   ],
   "source": [
    "4**(1/2)"
   ]
  },
  {
   "cell_type": "code",
   "execution_count": 36,
   "id": "27922cf8",
   "metadata": {},
   "outputs": [
    {
     "data": {
      "text/plain": [
       "3.9999999999999996"
      ]
     },
     "execution_count": 36,
     "metadata": {},
     "output_type": "execute_result"
    }
   ],
   "source": [
    "8**(2/3)"
   ]
  },
  {
   "cell_type": "markdown",
   "id": "82747a9e",
   "metadata": {},
   "source": [
    "<h1> DEĞİŞKEN TANIMLAMA </h1>\n",
    "\n",
    "<p>Değişken bir programa dilinde olmazsa olmaz bir kavramdır.</p>\n",
    "<p>Değişkenler aslında bir veri tipinden değer tutan birimlerdir.</p>\n",
    "<p>Değişkenlerimiz dinamik olarak değişe bilir.</p>\n",
    "<p>---İSTERSENİZ ŞİMDİ PYTHONDA BİR TANE DEĞİŞKEN OLUŞTURALIM----</p>"
   ]
  },
  {
   "cell_type": "markdown",
   "id": "4c2b14bb",
   "metadata": {},
   "source": [
    "<h1>DEĞİŞKEN İSMİ VE DEĞİŞKEN DEĞERİ</h1>\n",
    "<p>\n",
    "<ul>\n",
    "    <li>a=25</li>\n",
    "    <li>A=565646</li>\n",
    "    <li>b=98</li>\n",
    "    <li>c=87</li>\n",
    "    <li>i=4</li>\n",
    "    <li>j=6</li>\n",
    "!!!!!\n",
    "    <li>1.Değişken isimleri sayı ile başlamaz.</li>\n",
    "    <li>2.Değişken adı harflerden oluşuyorsa aralarında boşluk olmaz.</li>\n",
    "    <li>3.:,',\",<>,+,...,*.-,/,\\,%,&,/,(),^,$ Bu semboler değişken içinde kullanılamaz.\n",
    "    </li>\n",
    "    <li> sadece alt tire (_) kullanılabilir.</li>\n",
    "    <li>4. pythonda tanımlı anahtar kelimeler değişken olarak tanımlanamaz</li>\n",
    "    <li>(while,or,not,for,int vs.)</li>\n",
    "<ul>\n",
    "</p>"
   ]
  },
  {
   "cell_type": "markdown",
   "id": "361d9b29",
   "metadata": {},
   "source": [
    "<h1>DEĞİŞKENİLERİN DEĞERİNİ DEĞİŞTİRME veya artırma işlemi</h1>\n",
    "<ul>\n",
    "    <li>a,b=b,a</li>\n",
    "    <li>i=i+1</li>\n",
    "    <li>i+=1</li>\n",
    "</ul>"
   ]
  },
  {
   "cell_type": "code",
   "execution_count": 37,
   "id": "17358b92",
   "metadata": {},
   "outputs": [],
   "source": [
    "a=25\n"
   ]
  },
  {
   "cell_type": "code",
   "execution_count": 38,
   "id": "3fef8767",
   "metadata": {},
   "outputs": [
    {
     "data": {
      "text/plain": [
       "25"
      ]
     },
     "execution_count": 38,
     "metadata": {},
     "output_type": "execute_result"
    }
   ],
   "source": [
    "a"
   ]
  },
  {
   "cell_type": "code",
   "execution_count": null,
   "id": "674044bf",
   "metadata": {},
   "outputs": [],
   "source": [
    "# soru çözelim \n",
    "#bir kenar uzunluğu 15 cm olan küpün hacmi kaç cm^3 dür ? (küpün hacmi : a^3)\n"
   ]
  },
  {
   "cell_type": "code",
   "execution_count": 39,
   "id": "037f2703",
   "metadata": {},
   "outputs": [
    {
     "ename": "SyntaxError",
     "evalue": "invalid syntax (Temp/ipykernel_16104/2643323252.py, line 1)",
     "output_type": "error",
     "traceback": [
      "\u001b[1;36m  File \u001b[1;32m\"C:\\Users\\cihat\\AppData\\Local\\Temp/ipykernel_16104/2643323252.py\"\u001b[1;36m, line \u001b[1;32m1\u001b[0m\n\u001b[1;33m    9alfa=58\u001b[0m\n\u001b[1;37m     ^\u001b[0m\n\u001b[1;31mSyntaxError\u001b[0m\u001b[1;31m:\u001b[0m invalid syntax\n"
     ]
    }
   ],
   "source": [
    "9alfa=58"
   ]
  },
  {
   "cell_type": "markdown",
   "id": "6358ea9e",
   "metadata": {},
   "source": [
    "<p>Fatih bey daire şeklinde olan tarlasının yarı çapını 12 m olarak ölçülmüştür.\n",
    "Tarlasını ekip biçmek isteyen fatih bey önce tarlanın etrafını çitlerle kapatıp \n",
    "ekinini korumak istiyor. Buna göre Fatih bey kaç m çite ihtiyaç duyar ? \n",
    "\n",
    "pi=3.14\n",
    "r=12\n",
    "cevre=2*pi*r \n",
    "</p>    "
   ]
  },
  {
   "cell_type": "code",
   "execution_count": 44,
   "id": "20e8e133",
   "metadata": {},
   "outputs": [],
   "source": [
    "_coban = 24"
   ]
  },
  {
   "cell_type": "code",
   "execution_count": 45,
   "id": "9c0dd4f6",
   "metadata": {},
   "outputs": [
    {
     "data": {
      "text/plain": [
       "24"
      ]
     },
     "execution_count": 45,
     "metadata": {},
     "output_type": "execute_result"
    }
   ],
   "source": [
    " _coban"
   ]
  },
  {
   "cell_type": "code",
   "execution_count": 46,
   "id": "d9c25b35",
   "metadata": {},
   "outputs": [
    {
     "data": {
      "text/plain": [
       "25"
      ]
     },
     "execution_count": 46,
     "metadata": {},
     "output_type": "execute_result"
    }
   ],
   "source": [
    "a"
   ]
  },
  {
   "cell_type": "code",
   "execution_count": 47,
   "id": "41f32d7d",
   "metadata": {},
   "outputs": [],
   "source": [
    "a=8"
   ]
  },
  {
   "cell_type": "code",
   "execution_count": 48,
   "id": "0cef93d1",
   "metadata": {},
   "outputs": [
    {
     "data": {
      "text/plain": [
       "8"
      ]
     },
     "execution_count": 48,
     "metadata": {},
     "output_type": "execute_result"
    }
   ],
   "source": [
    "a"
   ]
  },
  {
   "cell_type": "code",
   "execution_count": 49,
   "id": "9f4478ec",
   "metadata": {},
   "outputs": [],
   "source": [
    "# a ve _coban değerlerini aralarında yer değişsin\n",
    "a,_coban = _coban ,a"
   ]
  },
  {
   "cell_type": "code",
   "execution_count": 50,
   "id": "65f7ea4b",
   "metadata": {},
   "outputs": [
    {
     "data": {
      "text/plain": [
       "24"
      ]
     },
     "execution_count": 50,
     "metadata": {},
     "output_type": "execute_result"
    }
   ],
   "source": [
    "a"
   ]
  },
  {
   "cell_type": "code",
   "execution_count": 51,
   "id": "72cc1ffa",
   "metadata": {},
   "outputs": [
    {
     "data": {
      "text/plain": [
       "8"
      ]
     },
     "execution_count": 51,
     "metadata": {},
     "output_type": "execute_result"
    }
   ],
   "source": [
    "_coban"
   ]
  },
  {
   "cell_type": "code",
   "execution_count": 52,
   "id": "34575774",
   "metadata": {},
   "outputs": [],
   "source": [
    "# a'nın değerini 1 artıralım\n",
    "a=a+1"
   ]
  },
  {
   "cell_type": "code",
   "execution_count": 53,
   "id": "9693f435",
   "metadata": {},
   "outputs": [
    {
     "data": {
      "text/plain": [
       "25"
      ]
     },
     "execution_count": 53,
     "metadata": {},
     "output_type": "execute_result"
    }
   ],
   "source": [
    "a"
   ]
  },
  {
   "cell_type": "code",
   "execution_count": 54,
   "id": "409a79ab",
   "metadata": {},
   "outputs": [],
   "source": [
    "a+=3"
   ]
  },
  {
   "cell_type": "code",
   "execution_count": 55,
   "id": "c2c2e8c9",
   "metadata": {},
   "outputs": [
    {
     "data": {
      "text/plain": [
       "28"
      ]
     },
     "execution_count": 55,
     "metadata": {},
     "output_type": "execute_result"
    }
   ],
   "source": [
    "a"
   ]
  },
  {
   "cell_type": "code",
   "execution_count": null,
   "id": "87a6e877",
   "metadata": {},
   "outputs": [],
   "source": []
  }
 ],
 "metadata": {
  "kernelspec": {
   "display_name": "Python 3 (ipykernel)",
   "language": "python",
   "name": "python3"
  },
  "language_info": {
   "codemirror_mode": {
    "name": "ipython",
    "version": 3
   },
   "file_extension": ".py",
   "mimetype": "text/x-python",
   "name": "python",
   "nbconvert_exporter": "python",
   "pygments_lexer": "ipython3",
   "version": "3.9.7"
  }
 },
 "nbformat": 4,
 "nbformat_minor": 5
}
