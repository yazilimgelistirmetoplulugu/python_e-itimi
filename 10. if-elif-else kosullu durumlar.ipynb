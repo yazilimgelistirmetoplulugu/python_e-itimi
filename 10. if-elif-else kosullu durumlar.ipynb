{
 "cells": [
  {
   "cell_type": "markdown",
   "id": "4b2604f3",
   "metadata": {},
   "source": [
    "<h1>Koşullu Durumlar</h1>\n",
    "<h2>İf Bloğu</h2>\n",
    "<p><b>if</b> eğer anlamı taşır . İstediğimiz koşulun gerçekleştirme durumunu yazarız.</p>"
   ]
  },
  {
   "cell_type": "code",
   "execution_count": null,
   "id": "54c95055",
   "metadata": {},
   "outputs": [],
   "source": [
    "# if kullanımını görelim\n",
    "if(koşul):\n",
    "    #kendisini hizalar ve okumaya başlar.\n",
    "    #if bloğu koşul sağlanınca True döner.\n",
    "    # koşul sağlanmazsa program if bloğunu atlar ve devam eder."
   ]
  },
  {
   "cell_type": "code",
   "execution_count": 1,
   "id": "a7eb1b2c",
   "metadata": {},
   "outputs": [
    {
     "name": "stdout",
     "output_type": "stream",
     "text": [
      "merhaba\n"
     ]
    }
   ],
   "source": [
    "# \"merhaba\" yazısını ekrana yazdırmak için koşul kullanalım.\n",
    "a=\"merhaba\"\n",
    "b=\"dünya\"\n",
    "if(a!=b):\n",
    "    print(a)"
   ]
  },
  {
   "cell_type": "code",
   "execution_count": 3,
   "id": "cc4849b9",
   "metadata": {},
   "outputs": [],
   "source": [
    "#bir şey dönmesini beleyemeyiz.\n",
    "if(a==b):\n",
    "    print(a+b)"
   ]
  },
  {
   "cell_type": "code",
   "execution_count": 4,
   "id": "687df466",
   "metadata": {
    "scrolled": true
   },
   "outputs": [
    {
     "name": "stdout",
     "output_type": "stream",
     "text": [
      "18\n"
     ]
    }
   ],
   "source": [
    "# 25 den küçük olup olmama durumu.\n",
    "i=18\n",
    "if(i<25):\n",
    "    print(i)"
   ]
  },
  {
   "cell_type": "markdown",
   "id": "ae3e1b60",
   "metadata": {},
   "source": [
    "<h2>Else Bloğu</h2>\n",
    "<p>Eğer <b>if bloğu</b> gerekli koşulu sağlamazsa bu durum da <b>else</b> bloğu çalışır .</p>"
   ]
  },
  {
   "cell_type": "code",
   "execution_count": null,
   "id": "ce4d41c7",
   "metadata": {},
   "outputs": [],
   "source": [
    "#else kullanımı\n",
    "if(koşul):\n",
    "    #if girdisi\n",
    "else:\n",
    "    #else girdisi"
   ]
  },
  {
   "cell_type": "code",
   "execution_count": 5,
   "id": "a3d80e2c",
   "metadata": {},
   "outputs": [
    {
     "name": "stdout",
     "output_type": "stream",
     "text": [
      "tebrikler başarı sağladınız\n"
     ]
    }
   ],
   "source": [
    "# dersten geçip kalma durumu\n",
    "a=65\n",
    "if(a<60):\n",
    "    print(\"başarısız oldunuz\")\n",
    "else:\n",
    "    print(\"tebrikler başarı sağladınız\")"
   ]
  },
  {
   "cell_type": "markdown",
   "id": "5d22e3d1",
   "metadata": {},
   "source": [
    "<h2>Elif Bloğu</h2>\n",
    "<p><b>elif</b> birden fazla koşulu durumu sağlamak için pythonda bize sunulan özel bir kullanımdır.</p>"
   ]
  },
  {
   "cell_type": "code",
   "execution_count": null,
   "id": "06bf238c",
   "metadata": {},
   "outputs": [],
   "source": [
    "#elif kullanımı\n",
    "if(koşul):\n",
    "    #girdi\n",
    "elif(koşul):\n",
    "    #girdi\n",
    "else:\n",
    "    #girdi"
   ]
  },
  {
   "cell_type": "code",
   "execution_count": 7,
   "id": "167b9c7f",
   "metadata": {},
   "outputs": [
    {
     "name": "stdout",
     "output_type": "stream",
     "text": [
      "mühendislik faküştesi\n"
     ]
    }
   ],
   "source": [
    "#üniversite tercih seralaması\n",
    "b=428\n",
    "if(b>450):\n",
    "    print(\"tıp fakültesi\")\n",
    "elif(b>350):\n",
    "    print(\"mühendislik faküştesi\")\n",
    "else:\n",
    "    print(\"tekrar hazırlanıyorum....\")"
   ]
  },
  {
   "cell_type": "markdown",
   "id": "dd0e57ae",
   "metadata": {},
   "source": [
    "<p> kullanıcıdan girdi almak için <b>input()</b> fonksiyonunu kullanırız.</p>"
   ]
  },
  {
   "cell_type": "code",
   "execution_count": 8,
   "id": "d60ff3eb",
   "metadata": {},
   "outputs": [
    {
     "name": "stdout",
     "output_type": "stream",
     "text": [
      "lütfen bir şey giriniz 5452\n"
     ]
    },
    {
     "data": {
      "text/plain": [
       "'5452'"
      ]
     },
     "execution_count": 8,
     "metadata": {},
     "output_type": "execute_result"
    }
   ],
   "source": [
    "# kulanıcıdan veri alma\n",
    "input(\"lütfen bir şey giriniz \")"
   ]
  },
  {
   "cell_type": "code",
   "execution_count": 11,
   "id": "2b33d4fe",
   "metadata": {},
   "outputs": [
    {
     "name": "stdout",
     "output_type": "stream",
     "text": [
      "lütfen geçerli bir tuşlama yapınız6326\n"
     ]
    },
    {
     "data": {
      "text/plain": [
       "6326"
      ]
     },
     "execution_count": 11,
     "metadata": {},
     "output_type": "execute_result"
    }
   ],
   "source": [
    "# girdiyi sadece int olarak olma\n",
    "int(input(\"lütfen geçerli bir tuşlama yapınız\"))"
   ]
  },
  {
   "cell_type": "code",
   "execution_count": 12,
   "id": "d7fe0283",
   "metadata": {},
   "outputs": [
    {
     "name": "stdout",
     "output_type": "stream",
     "text": [
      "lütfen geçerli bir tuşlama yapınızjgndmös\n"
     ]
    },
    {
     "ename": "ValueError",
     "evalue": "invalid literal for int() with base 10: 'jgndmös'",
     "output_type": "error",
     "traceback": [
      "\u001b[1;31m---------------------------------------------------------------------------\u001b[0m",
      "\u001b[1;31mValueError\u001b[0m                                Traceback (most recent call last)",
      "\u001b[1;32m~\\AppData\\Local\\Temp/ipykernel_1956/1214319243.py\u001b[0m in \u001b[0;36m<module>\u001b[1;34m\u001b[0m\n\u001b[0;32m      1\u001b[0m \u001b[1;31m# girdiyi sadece int olarak olma\u001b[0m\u001b[1;33m\u001b[0m\u001b[1;33m\u001b[0m\u001b[0m\n\u001b[1;32m----> 2\u001b[1;33m \u001b[0mint\u001b[0m\u001b[1;33m(\u001b[0m\u001b[0minput\u001b[0m\u001b[1;33m(\u001b[0m\u001b[1;34m\"lütfen geçerli bir tuşlama yapınız\"\u001b[0m\u001b[1;33m)\u001b[0m\u001b[1;33m)\u001b[0m\u001b[1;33m\u001b[0m\u001b[1;33m\u001b[0m\u001b[0m\n\u001b[0m",
      "\u001b[1;31mValueError\u001b[0m: invalid literal for int() with base 10: 'jgndmös'"
     ]
    }
   ],
   "source": [
    "# girdiyi sadece int olarak olma\n",
    "int(input(\"lütfen geçerli bir tuşlama yapınız\"))"
   ]
  },
  {
   "cell_type": "code",
   "execution_count": 14,
   "id": "63d49155",
   "metadata": {},
   "outputs": [
    {
     "name": "stdout",
     "output_type": "stream",
     "text": [
      "lütfen yaşınızı giriniz: 24\n",
      "gençliğini yaşa ....\n"
     ]
    }
   ],
   "source": [
    "# kullanıcıdan aldığımız girdiyi koşulandıralım\n",
    "i=int(input(\"lütfen yaşınızı giriniz: \"))\n",
    "if(i<18):\n",
    "    print(\"büyü de gel ....\")\n",
    "elif(18<=i<25):\n",
    "    print(\"gençliğini yaşa ....\")\n",
    "else:\n",
    "    print(\"yuva kurma vakti geldi....\")"
   ]
  },
  {
   "cell_type": "code",
   "execution_count": 15,
   "id": "bc6aa415",
   "metadata": {},
   "outputs": [
    {
     "name": "stdout",
     "output_type": "stream",
     "text": [
      "lütfen notunuzu giriniz:\t78\n",
      "b\n"
     ]
    }
   ],
   "source": [
    "# aldığı puana göre derecelendirme\n",
    "note=float(input(\"lütfen notunuzu giriniz:\\t\"))\n",
    "if 95<=note:\n",
    "    print(\"a+\")\n",
    "elif 90<=note:\n",
    "    print(\"a\")\n",
    "elif 85<=note:\n",
    "    print(\"a-\")\n",
    "elif 80<=note:\n",
    "    print(\"b+\")\n",
    "elif 75<=note:\n",
    "    print(\"b\")\n",
    "elif 70<=note:\n",
    "    print(\"b-\")\n",
    "elif 65<=note:\n",
    "    print(\"c+\")\n",
    "elif 60<=note:\n",
    "    print(\"c\")\n",
    "elif 55<=note:\n",
    "    print(\"c-\")\n",
    "elif 50<=note:\n",
    "    print(\"d\")\n",
    "else:\n",
    "    print(\"ff\")"
   ]
  }
 ],
 "metadata": {
  "kernelspec": {
   "display_name": "Python 3 (ipykernel)",
   "language": "python",
   "name": "python3"
  },
  "language_info": {
   "codemirror_mode": {
    "name": "ipython",
    "version": 3
   },
   "file_extension": ".py",
   "mimetype": "text/x-python",
   "name": "python",
   "nbconvert_exporter": "python",
   "pygments_lexer": "ipython3",
   "version": "3.9.7"
  }
 },
 "nbformat": 4,
 "nbformat_minor": 5
}
