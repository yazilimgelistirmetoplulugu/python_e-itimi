{
 "cells": [
  {
   "cell_type": "markdown",
   "id": "629fedea",
   "metadata": {},
   "source": [
    "<h1>Print fonksiyonu ve formatlama</h1>\n",
    "<p>bu bölümde ekrana veri tiplerini yazdırmak için kullandığımız <b>print()</b> fonksiyonunu ve formatlama yöntemini göreceğiz.</p>\n",
    "<h2>print() fonksiyonu</h2>\n",
    "<p>kodlarımızı dosyalara yazdırdığımızda eğer ekrana bir değer bastırmak istersek <b>print()</b> fonksiyonunu kullanırız.</p>"
   ]
  },
  {
   "cell_type": "code",
   "execution_count": 1,
   "id": "49d70619",
   "metadata": {},
   "outputs": [
    {
     "name": "stdout",
     "output_type": "stream",
     "text": [
      "hello world\n"
     ]
    }
   ],
   "source": [
    "print(\"hello world\")"
   ]
  },
  {
   "cell_type": "code",
   "execution_count": 1,
   "id": "42bfc689",
   "metadata": {},
   "outputs": [
    {
     "name": "stdout",
     "output_type": "stream",
     "text": [
      "565496626\n"
     ]
    }
   ],
   "source": [
    "print(\"565496626\")"
   ]
  },
  {
   "cell_type": "code",
   "execution_count": 4,
   "id": "2fefb641",
   "metadata": {},
   "outputs": [
    {
     "name": "stdout",
     "output_type": "stream",
     "text": [
      "8\n"
     ]
    }
   ],
   "source": [
    "c=\"8\"\n",
    "print(c)"
   ]
  },
  {
   "cell_type": "code",
   "execution_count": 5,
   "id": "752662d8",
   "metadata": {},
   "outputs": [
    {
     "name": "stdout",
     "output_type": "stream",
     "text": [
      "888\n"
     ]
    }
   ],
   "source": [
    "b=c*3\n",
    "print(b)"
   ]
  },
  {
   "cell_type": "code",
   "execution_count": null,
   "id": "90d5e623",
   "metadata": {},
   "outputs": [],
   "source": []
  },
  {
   "cell_type": "code",
   "execution_count": 2,
   "id": "d2dcde33",
   "metadata": {},
   "outputs": [
    {
     "name": "stdout",
     "output_type": "stream",
     "text": [
      "56565\n"
     ]
    }
   ],
   "source": [
    "print(56565)"
   ]
  },
  {
   "cell_type": "code",
   "execution_count": 3,
   "id": "ad89fdd7",
   "metadata": {},
   "outputs": [
    {
     "name": "stdout",
     "output_type": "stream",
     "text": [
      "45.85\n"
     ]
    }
   ],
   "source": [
    "print(45.85)"
   ]
  },
  {
   "cell_type": "code",
   "execution_count": 4,
   "id": "dc3ccfce",
   "metadata": {},
   "outputs": [
    {
     "name": "stdout",
     "output_type": "stream",
     "text": [
      "yazılım geliştirme kursuna hoş geldiniz...\n"
     ]
    }
   ],
   "source": [
    "print(\"yazılım geliştirme kursuna hoş geldiniz...\")"
   ]
  },
  {
   "cell_type": "code",
   "execution_count": 5,
   "id": "4f964cdd",
   "metadata": {},
   "outputs": [
    {
     "name": "stdout",
     "output_type": "stream",
     "text": [
      "cihat çoban 2022\n"
     ]
    }
   ],
   "source": [
    "print(\"cihat\",\"çoban\",2022)"
   ]
  },
  {
   "cell_type": "markdown",
   "id": "35bff532",
   "metadata": {},
   "source": [
    "<h1>stringlerde özel karakterler</h1>\n",
    "<p>Python da stringlerde özel karakterler mevcutur ve kullanıldıkları yerlerde işimizi kolaylaştırırlar.</p>\n",
    "<h2>\\n karakteri</h2>\n",
    "<p>Alt alta yazmamızı sağlar</p>\n",
    "<h2>\\t karakteri</h2>\n",
    "<p>Arada 1 tab boşluk bırakarak yazar</p>"
   ]
  },
  {
   "cell_type": "code",
   "execution_count": 6,
   "id": "9d7931de",
   "metadata": {},
   "outputs": [
    {
     "name": "stdout",
     "output_type": "stream",
     "text": [
      "yazılım\n",
      "geliştirme\n",
      "topluluğu\n"
     ]
    }
   ],
   "source": [
    "print(\"yazılım\\ngeliştirme\\ntopluluğu\")"
   ]
  },
  {
   "cell_type": "code",
   "execution_count": 6,
   "id": "b5e3eb41",
   "metadata": {},
   "outputs": [
    {
     "name": "stdout",
     "output_type": "stream",
     "text": [
      "gel\n",
      "geldim\n",
      "geldiler\tmi onlar\n"
     ]
    }
   ],
   "source": [
    "print(\"gel\\ngeldim\\ngeldiler\\tmi onlar\")"
   ]
  },
  {
   "cell_type": "code",
   "execution_count": 7,
   "id": "06910e5b",
   "metadata": {},
   "outputs": [
    {
     "data": {
      "text/plain": [
       "str"
      ]
     },
     "execution_count": 7,
     "metadata": {},
     "output_type": "execute_result"
    }
   ],
   "source": [
    "type(c)"
   ]
  },
  {
   "cell_type": "code",
   "execution_count": 9,
   "id": "662fcf2d",
   "metadata": {},
   "outputs": [
    {
     "name": "stdout",
     "output_type": "stream",
     "text": [
      "merhaba\tdünya\n"
     ]
    }
   ],
   "source": [
    "print(\"merhaba\\tdünya\")"
   ]
  },
  {
   "cell_type": "markdown",
   "id": "4e6244ef",
   "metadata": {},
   "source": [
    "<h1>type() fonksiyonu</h1>\n",
    "<p><b>type()</b> fonksiyonu içine girilen verinin tipini belirler</p>"
   ]
  },
  {
   "cell_type": "code",
   "execution_count": 8,
   "id": "381c93ec",
   "metadata": {},
   "outputs": [
    {
     "data": {
      "text/plain": [
       "int"
      ]
     },
     "execution_count": 8,
     "metadata": {},
     "output_type": "execute_result"
    }
   ],
   "source": [
    "#integer\n",
    "a=65623\n",
    "type(a)"
   ]
  },
  {
   "cell_type": "code",
   "execution_count": 10,
   "id": "5d5d766a",
   "metadata": {},
   "outputs": [
    {
     "data": {
      "text/plain": [
       "894"
      ]
     },
     "execution_count": 10,
     "metadata": {},
     "output_type": "execute_result"
    }
   ],
   "source": [
    "t=\"894.124\"\n",
    "r=float(t)\n",
    "w=int(r)\n",
    "w\n"
   ]
  },
  {
   "cell_type": "code",
   "execution_count": 11,
   "id": "53331cf9",
   "metadata": {},
   "outputs": [
    {
     "data": {
      "text/plain": [
       "int"
      ]
     },
     "execution_count": 11,
     "metadata": {},
     "output_type": "execute_result"
    }
   ],
   "source": [
    "type(w)"
   ]
  },
  {
   "cell_type": "code",
   "execution_count": 12,
   "id": "acc62b5a",
   "metadata": {},
   "outputs": [
    {
     "data": {
      "text/plain": [
       "float"
      ]
     },
     "execution_count": 12,
     "metadata": {},
     "output_type": "execute_result"
    }
   ],
   "source": [
    "type(r)"
   ]
  },
  {
   "cell_type": "code",
   "execution_count": 13,
   "id": "3a97c8b4",
   "metadata": {},
   "outputs": [
    {
     "data": {
      "text/plain": [
       "str"
      ]
     },
     "execution_count": 13,
     "metadata": {},
     "output_type": "execute_result"
    }
   ],
   "source": [
    "type(t)"
   ]
  },
  {
   "cell_type": "code",
   "execution_count": null,
   "id": "a177011d",
   "metadata": {},
   "outputs": [],
   "source": []
  },
  {
   "cell_type": "code",
   "execution_count": 11,
   "id": "b738dacf",
   "metadata": {},
   "outputs": [
    {
     "name": "stdout",
     "output_type": "stream",
     "text": [
      "<class 'float'>\n"
     ]
    }
   ],
   "source": [
    "#float\n",
    "b=8456.45\n",
    "print(type(b))"
   ]
  },
  {
   "cell_type": "code",
   "execution_count": 12,
   "id": "c3543579",
   "metadata": {},
   "outputs": [
    {
     "name": "stdout",
     "output_type": "stream",
     "text": [
      "<class 'str'>\n"
     ]
    }
   ],
   "source": [
    "#string\n",
    "c=\"python kursu\"\n",
    "print(type(c))"
   ]
  },
  {
   "cell_type": "markdown",
   "id": "a1e71007",
   "metadata": {},
   "source": [
    "<h1>sep parametresi</h1>\n",
    "<p>print() fonksiyonunda kullanılabilen <b>seb parametresi</b> yazdırdığımız değerin arasına istediğimiz karakteri yerleştirmeyisağlar. eğer kullanmazsak varsayılan olarak oluşturulan boşluk konur.</p>"
   ]
  },
  {
   "cell_type": "code",
   "execution_count": 13,
   "id": "9966924f",
   "metadata": {},
   "outputs": [
    {
     "name": "stdout",
     "output_type": "stream",
     "text": [
      "5 6 62 2 632 96\n"
     ]
    }
   ],
   "source": [
    "print(5,6,62,2,632,96)"
   ]
  },
  {
   "cell_type": "code",
   "execution_count": 15,
   "id": "f9ed6443",
   "metadata": {},
   "outputs": [
    {
     "name": "stdout",
     "output_type": "stream",
     "text": [
      "7--->6--->66--->6686--->12\n"
     ]
    }
   ],
   "source": [
    "print(7,6,66,6686,12,sep=\"--->\")"
   ]
  },
  {
   "cell_type": "code",
   "execution_count": 19,
   "id": "85ab2e1f",
   "metadata": {},
   "outputs": [
    {
     "name": "stdout",
     "output_type": "stream",
     "text": [
      "yazılım-geliştirme-topluluğu-2022-2023\n"
     ]
    }
   ],
   "source": [
    "print(\"yazılım\",\"geliştirme\",\"topluluğu\",2022,2023 ,sep=\"-\")"
   ]
  },
  {
   "cell_type": "code",
   "execution_count": 20,
   "id": "abf33fff",
   "metadata": {},
   "outputs": [
    {
     "name": "stdout",
     "output_type": "stream",
     "text": [
      "yazılım\n",
      "geliştirme\n",
      "topluluğu\n",
      "2022\n",
      "2023\n"
     ]
    }
   ],
   "source": [
    "print(\"yazılım\",\"geliştirme\",\"topluluğu\",2022,2023 ,sep=\"\\n\")"
   ]
  },
  {
   "cell_type": "markdown",
   "id": "93861dec",
   "metadata": {},
   "source": [
    "<h2>yıldızlı parametreler</h2>\n",
    "<p>eğer bir stringin başına <b>*</b> işareti koyup , print fonksiyonuyla bastırırsak bu strink karakterlirine ayrılacak ve her biri farklı bir string gibi davranacak.</p>"
   ]
  },
  {
   "cell_type": "code",
   "execution_count": 21,
   "id": "ef3ab112",
   "metadata": {},
   "outputs": [
    {
     "name": "stdout",
     "output_type": "stream",
     "text": [
      "c i h a t\n"
     ]
    }
   ],
   "source": [
    "print(*\"cihat\")"
   ]
  },
  {
   "cell_type": "code",
   "execution_count": 14,
   "id": "810ed317",
   "metadata": {},
   "outputs": [
    {
     "name": "stdout",
     "output_type": "stream",
     "text": [
      "y\n",
      "a\n",
      "z\n",
      "ı\n",
      "l\n",
      "ı\n",
      "m\n",
      "geliştirme\n",
      "t\n",
      "o\n",
      "p\n",
      "l\n",
      "u\n",
      "l\n",
      "u\n",
      "ğ\n",
      "u\n",
      "2022\n",
      "2023\n"
     ]
    }
   ],
   "source": [
    "print(*\"yazılım\",\"geliştirme\",*\"topluluğu\",2022,2023 ,sep=\"\\n\")"
   ]
  },
  {
   "cell_type": "markdown",
   "id": "9e54396f",
   "metadata": {},
   "source": [
    "<h1>FORMATLAMA</h1>\n",
    "<p>proglama yaparken bazı yerlerde bir string içinde daha önceden tanımlı string,integer,float vs. değerleri yerleştirmek isteyebiliriz.Böyle durumlarda pythonda <b>format()</b> fonksiyonu kullanılır.</p>"
   ]
  },
  {
   "cell_type": "code",
   "execution_count": 16,
   "id": "fcb5f8b1",
   "metadata": {},
   "outputs": [
    {
     "data": {
      "text/plain": [
       "'35 12 45 9'"
      ]
     },
     "execution_count": 16,
     "metadata": {},
     "output_type": "execute_result"
    }
   ],
   "source": [
    "#burada 4 tane süslü parantezimiz var bunların içine format fonksiyonunun içindeki sayıları yerleştireceğiz.\n",
    "\"{1} {0} {3} {2}\".format(12,35,9,45)"
   ]
  },
  {
   "cell_type": "code",
   "execution_count": 25,
   "id": "41d3f17a",
   "metadata": {},
   "outputs": [
    {
     "name": "stdout",
     "output_type": "stream",
     "text": [
      "85+(15*10) böyle işlemler de gerçekleştirebiliriz. sonuç= 235\n"
     ]
    }
   ],
   "source": [
    "i=85\n",
    "j=15\n",
    "k=10\n",
    "print(\"{}+({}*{}) böyle işlemler de gerçekleştirebiliriz. sonuç= {}\".format(i,j,k,i+j*k))"
   ]
  },
  {
   "cell_type": "code",
   "execution_count": 19,
   "id": "c289a8c9",
   "metadata": {},
   "outputs": [
    {
     "name": "stdout",
     "output_type": "stream",
     "text": [
      "(87+98)*3=555\n"
     ]
    }
   ],
   "source": [
    "h=87\n",
    "g=98\n",
    "q=3\n",
    "print(\"({}+{})*{}={}\".format(h,g,q,(h+g)*q))"
   ]
  },
  {
   "cell_type": "code",
   "execution_count": null,
   "id": "bbd4ebc1",
   "metadata": {},
   "outputs": [],
   "source": []
  },
  {
   "cell_type": "code",
   "execution_count": null,
   "id": "a74c46ac",
   "metadata": {},
   "outputs": [],
   "source": []
  }
 ],
 "metadata": {
  "kernelspec": {
   "display_name": "Python 3 (ipykernel)",
   "language": "python",
   "name": "python3"
  },
  "language_info": {
   "codemirror_mode": {
    "name": "ipython",
    "version": 3
   },
   "file_extension": ".py",
   "mimetype": "text/x-python",
   "name": "python",
   "nbconvert_exporter": "python",
   "pygments_lexer": "ipython3",
   "version": "3.9.7"
  }
 },
 "nbformat": 4,
 "nbformat_minor": 5
}
