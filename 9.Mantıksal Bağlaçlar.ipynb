{
 "cells": [
  {
   "cell_type": "markdown",
   "id": "4258a9f8",
   "metadata": {},
   "source": [
    "<h1>Mantıksal Bağlaçlar</h1>\n",
    "<b>and , or , not </b>\n",
    "<p>Mantıksal bağlaçları birden fazla koşullu durumu test ettiğimizde kulllanırız.</p>\n",
    "<p><b>and</b> eşitliğin tamamı doğru ise <b>True</b> en az biri yanlışsa <b>False</b> değerini döner.</p>\n",
    "<p><b>or</b> eşitliğinte en az biri doğru var ise <b>True</b> her ikisi de yanlışsa <b>False</b> değerini döner.</p>\n",
    "<p><b>not</b> bir işlemin sonucu <b>True ise False,False ise True</b> yapıyor.</p>"
   ]
  },
  {
   "cell_type": "code",
   "execution_count": 3,
   "id": "5a3d3cb6",
   "metadata": {},
   "outputs": [
    {
     "data": {
      "text/plain": [
       "True"
      ]
     },
     "execution_count": 3,
     "metadata": {},
     "output_type": "execute_result"
    }
   ],
   "source": [
    "# end (doğru)\n",
    "12>10 and 5!=6"
   ]
  },
  {
   "cell_type": "code",
   "execution_count": 4,
   "id": "9ba3c08d",
   "metadata": {},
   "outputs": [
    {
     "data": {
      "text/plain": [
       "False"
      ]
     },
     "execution_count": 4,
     "metadata": {},
     "output_type": "execute_result"
    }
   ],
   "source": [
    "# end (yanlış)\n",
    "7<8 and 20>=25"
   ]
  },
  {
   "cell_type": "code",
   "execution_count": 7,
   "id": "66ca8593",
   "metadata": {},
   "outputs": [
    {
     "data": {
      "text/plain": [
       "True"
      ]
     },
     "execution_count": 7,
     "metadata": {},
     "output_type": "execute_result"
    }
   ],
   "source": [
    "# çoklu gösterim (doğru)\n",
    "15>12 and 25.41<32.1 and \"cihat\"!=\"çoban\""
   ]
  },
  {
   "cell_type": "code",
   "execution_count": 8,
   "id": "a79e2ded",
   "metadata": {},
   "outputs": [
    {
     "data": {
      "text/plain": [
       "False"
      ]
     },
     "execution_count": 8,
     "metadata": {},
     "output_type": "execute_result"
    }
   ],
   "source": [
    "# çoklu gösterim (yanlış)\n",
    "15>12 and 25.41<32.1 and \"cihat\"!=\"cihat\""
   ]
  },
  {
   "cell_type": "code",
   "execution_count": 5,
   "id": "5711bfd3",
   "metadata": {},
   "outputs": [
    {
     "data": {
      "text/plain": [
       "True"
      ]
     },
     "execution_count": 5,
     "metadata": {},
     "output_type": "execute_result"
    }
   ],
   "source": [
    "# or (doğru)\n",
    "75<12 or 25<30"
   ]
  },
  {
   "cell_type": "code",
   "execution_count": 6,
   "id": "f0a25dd6",
   "metadata": {},
   "outputs": [
    {
     "data": {
      "text/plain": [
       "False"
      ]
     },
     "execution_count": 6,
     "metadata": {},
     "output_type": "execute_result"
    }
   ],
   "source": [
    "# or (yanlış)\n",
    "45<41 or 12==15"
   ]
  },
  {
   "cell_type": "code",
   "execution_count": 9,
   "id": "6d0f1389",
   "metadata": {},
   "outputs": [
    {
     "data": {
      "text/plain": [
       "True"
      ]
     },
     "execution_count": 9,
     "metadata": {},
     "output_type": "execute_result"
    }
   ],
   "source": [
    "# çoklu gösterim (doğru)\n",
    "15>12 or 25.41<=32.1 or \"aşk\"!=\"sevgi\""
   ]
  },
  {
   "cell_type": "code",
   "execution_count": 10,
   "id": "89803b9a",
   "metadata": {},
   "outputs": [
    {
     "data": {
      "text/plain": [
       "False"
      ]
     },
     "execution_count": 10,
     "metadata": {},
     "output_type": "execute_result"
    }
   ],
   "source": [
    "# çoklu gösterim (yanlış)\n",
    "5>82 and 25.41>=32.1 and \"cihat\"==\"çoban\""
   ]
  },
  {
   "cell_type": "code",
   "execution_count": 11,
   "id": "0236ac95",
   "metadata": {},
   "outputs": [
    {
     "data": {
      "text/plain": [
       "True"
      ]
     },
     "execution_count": 11,
     "metadata": {},
     "output_type": "execute_result"
    }
   ],
   "source": [
    "#not kullanımı\n",
    "not(5>82 and 25.41>=32.1 and \"cihat\"==\"çoban\")"
   ]
  },
  {
   "cell_type": "code",
   "execution_count": 12,
   "id": "a58afe8e",
   "metadata": {},
   "outputs": [
    {
     "data": {
      "text/plain": [
       "False"
      ]
     },
     "execution_count": 12,
     "metadata": {},
     "output_type": "execute_result"
    }
   ],
   "source": [
    "#üç operatörümüzü de kullanalım\n",
    "not(not(12<10 and 7<8) or not(\"python\"!=12 or \"aşk\"==\"sevgi\"))"
   ]
  },
  {
   "cell_type": "code",
   "execution_count": null,
   "id": "fbfcf8e8",
   "metadata": {},
   "outputs": [],
   "source": []
  },
  {
   "cell_type": "code",
   "execution_count": null,
   "id": "d3340acd",
   "metadata": {},
   "outputs": [],
   "source": []
  },
  {
   "cell_type": "code",
   "execution_count": null,
   "id": "e02b5746",
   "metadata": {},
   "outputs": [],
   "source": []
  },
  {
   "cell_type": "code",
   "execution_count": null,
   "id": "82a2ec01",
   "metadata": {},
   "outputs": [],
   "source": []
  }
 ],
 "metadata": {
  "kernelspec": {
   "display_name": "Python 3 (ipykernel)",
   "language": "python",
   "name": "python3"
  },
  "language_info": {
   "codemirror_mode": {
    "name": "ipython",
    "version": 3
   },
   "file_extension": ".py",
   "mimetype": "text/x-python",
   "name": "python",
   "nbconvert_exporter": "python",
   "pygments_lexer": "ipython3",
   "version": "3.9.7"
  }
 },
 "nbformat": 4,
 "nbformat_minor": 5
}
